{
 "cells": [
  {
   "cell_type": "code",
   "execution_count": 2,
   "id": "7c99c112",
   "metadata": {},
   "outputs": [],
   "source": [
    "import os\n",
    "os.chdir('/home/z/code/zetaqubit/dl')"
   ]
  },
  {
   "cell_type": "code",
   "execution_count": 3,
   "id": "7cf7feeb",
   "metadata": {},
   "outputs": [
    {
     "name": "stdout",
     "output_type": "stream",
     "text": [
      "/home/z/code/zetaqubit/dl\r\n"
     ]
    }
   ],
   "source": [
    "!pwd"
   ]
  },
  {
   "cell_type": "code",
   "execution_count": 4,
   "id": "d5327652",
   "metadata": {},
   "outputs": [],
   "source": [
    "import pandas as pd\n",
    "import numpy as np\n",
    "pd.set_option ('display.max_colwidth', None)"
   ]
  },
  {
   "cell_type": "code",
   "execution_count": 5,
   "id": "a0399e24",
   "metadata": {},
   "outputs": [],
   "source": [
    "from dl.colabs import colab_utils as cu"
   ]
  },
  {
   "cell_type": "code",
   "execution_count": 6,
   "id": "8edf5e75",
   "metadata": {},
   "outputs": [
    {
     "name": "stdout",
     "output_type": "stream",
     "text": [
      "The autoreload extension is already loaded. To reload it, use:\n",
      "  %reload_ext autoreload\n",
      "The autoreload extension is already loaded. To reload it, use:\n",
      "  %reload_ext autoreload\n"
     ]
    },
    {
     "data": {
      "text/plain": [
       "<module 'dl.colabs.colab_utils' from '/home/z/code/zetaqubit/dl/dl/colabs/colab_utils.py'>"
      ]
     },
     "execution_count": 6,
     "metadata": {},
     "output_type": "execute_result"
    }
   ],
   "source": [
    "cu.autoreload()\n",
    "cu.reload(cu)"
   ]
  },
  {
   "cell_type": "code",
   "execution_count": 7,
   "id": "1b0652ef",
   "metadata": {},
   "outputs": [],
   "source": [
    "cu.clear()"
   ]
  },
  {
   "cell_type": "code",
   "execution_count": 20,
   "id": "704972e3",
   "metadata": {},
   "outputs": [],
   "source": [
    "import gin\n",
    "from dl.data import tokenizers\n",
    "\n",
    "tok_type = 'char'\n",
    "max_seq_len = 128\n",
    "tok = tokenizers.create(tok_type, max_seq_len=None)"
   ]
  },
  {
   "cell_type": "code",
   "execution_count": 21,
   "id": "04c3d33b",
   "metadata": {},
   "outputs": [],
   "source": [
    "from dl.data import dataset\n",
    "\n",
    "ds_name = 'wikitext-103'\n",
    "ds = dataset.MemoryMappedDataset(ds_name, f'{tok_type}.train', max_seq_len+1)"
   ]
  },
  {
   "cell_type": "code",
   "execution_count": 22,
   "id": "94b6b82f",
   "metadata": {},
   "outputs": [
    {
     "data": {
      "text/plain": [
       "tensor([111, 114,  32, 102, 105, 108, 109,  32,  78, 105, 103, 104, 116,  32,\n",
       "        111, 102,  32, 116, 104, 101,  32,  76, 105, 118, 105, 110, 103,  32,\n",
       "         68, 101,  97, 100,  32, 119, 105, 116, 104,  32,  77, 105,  99, 104,\n",
       "         97, 101, 108,  32,  74,  97,  99, 107, 115, 111, 110,  32,  39, 115,\n",
       "         32,  49,  57,  56,  51,  32, 109, 117, 115, 105,  99,  32, 118, 105,\n",
       "        100, 101, 111,  32, 102, 111, 114,  32,  34,  32,  84, 104, 114, 105,\n",
       "        108, 108, 101, 114,  32,  34,  32,  46,  32,  65, 116,  32, 116, 104,\n",
       "        101,  32,  53,  57, 116, 104,  32,  80, 114, 105, 109, 101, 116, 105,\n",
       "        109, 101,  32,  69, 109, 109, 121,  32,  65, 119,  97, 114, 100, 115,\n",
       "         32,  44,  32], device='cuda:0')"
      ]
     },
     "execution_count": 22,
     "metadata": {},
     "output_type": "execute_result"
    }
   ],
   "source": [
    "ids = next(iter(ds))\n",
    "ids"
   ]
  },
  {
   "cell_type": "code",
   "execution_count": 23,
   "id": "317ae5e0",
   "metadata": {},
   "outputs": [
    {
     "data": {
      "text/html": [
       "<div>\n",
       "<style scoped>\n",
       "    .dataframe tbody tr th:only-of-type {\n",
       "        vertical-align: middle;\n",
       "    }\n",
       "\n",
       "    .dataframe tbody tr th {\n",
       "        vertical-align: top;\n",
       "    }\n",
       "\n",
       "    .dataframe thead th {\n",
       "        text-align: right;\n",
       "    }\n",
       "</style>\n",
       "<table border=\"1\" class=\"dataframe\">\n",
       "  <thead>\n",
       "    <tr style=\"text-align: right;\">\n",
       "      <th></th>\n",
       "      <th>ids</th>\n",
       "      <th>text</th>\n",
       "    </tr>\n",
       "  </thead>\n",
       "  <tbody>\n",
       "    <tr>\n",
       "      <th>0</th>\n",
       "      <td>[111, 110, 116, 104, 115, 32, 46, 32, 65, 102, 116, 101, 114, 32, 99, 111, 115, 116, 115, 32, 44, 32, 116, 97, 120, 101, 115, 32, 97, 110, 100, 32, 97, 32, 100, 111, 110, 97, 116, 105, 111, 110, 32, 116, 111, 32, 84, 104, 101, 32, 80, 114, 105, 110, 99, 101, 32, 39, 115, 32, 84, 114, 117, 115, 116, 32, 44, 32, 97, 32, 99, 104, 97, 114, 105, 116, 121, 32, 102, 111, 114, 32, 121, 111, 117, 110, 103, 32, 112, 101, 111, 112, 108, 101, 32, 44, 32, 84, 101, 119, ...]</td>\n",
       "      <td>onths . After costs , taxes and a donation to The Prince 's Trust , a charity for young people , Tew expected his net income to b</td>\n",
       "    </tr>\n",
       "    <tr>\n",
       "      <th>1</th>\n",
       "      <td>[119, 105, 116, 104, 32, 104, 105, 115, 32, 116, 114, 117, 110, 107, 32, 44, 32, 105, 110, 32, 104, 105, 115, 32, 108, 111, 119, 101, 114, 32, 64, 45, 64, 32, 108, 101, 102, 116, 32, 104, 97, 110, 100, 32, 46, 32, 84, 104, 101, 32, 109, 111, 116, 105, 102, 32, 111, 102, 32, 71, 97, 110, 101, 115, 104, 97, 32, 116, 117, 114, 110, 105, 110, 103, 32, 104, 105, 115, 32, 116, 114, 117, 110, 107, 32, 115, 104, 97, 114, 112, 108, 121, 32, 116, 111, 32, 104, 105, 115, 32, ...]</td>\n",
       "      <td>with his trunk , in his lower @-@ left hand . The motif of Ganesha turning his trunk sharply to his left to taste a sweet in his</td>\n",
       "    </tr>\n",
       "    <tr>\n",
       "      <th>2</th>\n",
       "      <td>[119, 97, 115, 32, 110, 111, 116, 32, 112, 114, 111, 102, 105, 99, 105, 101, 110, 116, 32, 105, 110, 32, 115, 112, 111, 107, 101, 110, 32, 69, 110, 103, 108, 105, 115, 104, 32, 46, 32, 74, 97, 99, 107, 97, 108, 111, 119, 32, 112, 114, 111, 116, 101, 115, 116, 101, 100, 32, 104, 105, 115, 32, 105, 110, 110, 111, 99, 101, 110, 99, 101, 32, 116, 111, 32, 116, 104, 101, 32, 114, 101, 112, 111, 114, 116, 101, 114, 32, 97, 110, 100, 32, 101, 120, 112, 108, 97, 105, 110, 101, ...]</td>\n",
       "      <td>was not proficient in spoken English . Jackalow protested his innocence to the reporter and explained that he was Japanese , from</td>\n",
       "    </tr>\n",
       "    <tr>\n",
       "      <th>3</th>\n",
       "      <td>[40, 32, 53, 48, 32, 109, 105, 32, 41, 32, 112, 101, 114, 32, 104, 111, 117, 114, 32, 46, 32, 76, 97, 110, 100, 105, 110, 103, 32, 105, 115, 32, 97, 119, 107, 119, 97, 114, 100, 32, 59, 32, 105, 116, 32, 101, 105, 116, 104, 101, 114, 32, 99, 114, 97, 115, 104, 101, 115, 32, 105, 110, 116, 111, 32, 97, 32, 119, 97, 118, 101, 32, 99, 114, 101, 115, 116, 32, 111, 114, 32, 44, 32, 105, 110, 32, 99, 97, 108, 109, 101, 114, 32, 119, 97, 116, 101, 114, 32, 44, ...]</td>\n",
       "      <td>( 50 mi ) per hour . Landing is awkward ; it either crashes into a wave crest or , in calmer water , does a belly flop . While at</td>\n",
       "    </tr>\n",
       "    <tr>\n",
       "      <th>4</th>\n",
       "      <td>[109, 32, 116, 114, 97, 105, 108, 104, 101, 97, 100, 115, 32, 97, 110, 100, 32, 109, 111, 114, 101, 32, 100, 105, 102, 102, 105, 99, 117, 108, 116, 32, 116, 111, 32, 97, 99, 99, 101, 115, 115, 32, 97, 110, 100, 32, 97, 115, 99, 101, 110, 100, 32, 46, 32, 84, 104, 101, 32, 68, 105, 114, 101, 99, 116, 32, 83, 111, 117, 116, 104, 32, 66, 117, 116, 116, 114, 101, 115, 115, 32, 111, 102, 32, 77, 111, 117, 110, 116, 32, 77, 111, 114, 97, 110, 32, 112, 114, 111, 118, ...]</td>\n",
       "      <td>m trailheads and more difficult to access and ascend . The Direct South Buttress of Mount Moran provides a vertical mile of climb</td>\n",
       "    </tr>\n",
       "    <tr>\n",
       "      <th>5</th>\n",
       "      <td>[32, 112, 114, 111, 100, 117, 99, 116, 105, 111, 110, 32, 119, 97, 115, 32, 104, 97, 110, 100, 108, 101, 100, 32, 98, 121, 32, 87, 101, 115, 116, 32, 44, 32, 66, 104, 97, 115, 107, 101, 114, 32, 44, 32, 77, 105, 107, 101, 32, 68, 101, 97, 110, 32, 44, 32, 81, 32, 64, 45, 64, 32, 84, 105, 112, 32, 97, 110, 100, 32, 68, 111, 110, 32, 74, 97, 122, 122, 121, 32, 46, 32, 84, 104, 101, 32, 115, 111, 110, 103, 32, 119, 97, 115, 32, 114, 101, 99, 111, 114, ...]</td>\n",
       "      <td>production was handled by West , Bhasker , Mike Dean , Q @-@ Tip and Don Jazzy . The song was recorded in Sydney , Australia . I</td>\n",
       "    </tr>\n",
       "    <tr>\n",
       "      <th>6</th>\n",
       "      <td>[114, 103, 101, 110, 115, 101, 110, 32, 44, 32, 67, 104, 114, 105, 115, 32, 71, 105, 114, 97, 114, 100, 32, 41, 32, 32, 51, 32, 58, 32, 51, 54, 32, 10, 32, 83, 105, 100, 101, 32, 102, 111, 117, 114, 32, 10, 32, 34, 32, 76, 101, 115, 115, 32, 84, 104, 97, 110, 32, 89, 111, 117, 32, 84, 104, 105, 110, 107, 32, 34, 32, 40, 32, 84, 119, 101, 101, 100, 121, 32, 44, 32, 74, 111, 104, 110, 32, 83, 116, 105, 114, 114, 97, 116, 116, 32, 44, 32, 75, 111, ...]</td>\n",
       "      <td>rgensen , Chris Girard )  3 : 36 \\n Side four \\n \" Less Than You Think \" ( Tweedy , John Stirratt , Kotche , Jorgensen , Leroy Bach</td>\n",
       "    </tr>\n",
       "    <tr>\n",
       "      <th>7</th>\n",
       "      <td>[105, 110, 116, 111, 32, 116, 104, 101, 32, 98, 97, 115, 105, 110, 32, 111, 110, 32, 68, 101, 99, 101, 109, 98, 101, 114, 32, 50, 56, 32, 44, 32, 113, 117, 105, 99, 107, 108, 121, 32, 100, 105, 115, 115, 105, 112, 97, 116, 105, 110, 103, 32, 46, 32, 10, 32, 61, 32, 61, 32, 61, 32, 79, 116, 104, 101, 114, 32, 115, 116, 111, 114, 109, 115, 32, 105, 110, 32, 49, 57, 57, 57, 32, 61, 32, 61, 32, 61, 32, 10, 32, 79, 110, 32, 74, 97, 110, 117, 97, 114, ...]</td>\n",
       "      <td>into the basin on December 28 , quickly dissipating . \\n = = = Other storms in 1999 = = = \\n On January 1 , an area of convection p</td>\n",
       "    </tr>\n",
       "    <tr>\n",
       "      <th>8</th>\n",
       "      <td>[99, 99, 101, 101, 100, 101, 100, 32, 116, 111, 32, 114, 117, 108, 101, 32, 106, 111, 105, 110, 116, 108, 121, 32, 46, 32, 69, 99, 103, 114, 105, 99, 32, 44, 32, 119, 104, 111, 32, 109, 97, 121, 32, 104, 97, 118, 101, 32, 98, 101, 101, 110, 32, 97, 32, 115, 117, 98, 32, 64, 45, 64, 32, 107, 105, 110, 103, 32, 117, 110, 116, 105, 108, 32, 116, 104, 101, 32, 97, 98, 100, 105, 99, 97, 116, 105, 111, 110, 32, 111, 102, 32, 83, 105, 103, 101, 98, 101, 114, 104, ...]</td>\n",
       "      <td>cceeded to rule jointly . Ecgric , who may have been a sub @-@ king until the abdication of Sigeberht in around 634 , seems to ha</td>\n",
       "    </tr>\n",
       "    <tr>\n",
       "      <th>9</th>\n",
       "      <td>[32, 108, 97, 114, 103, 101, 32, 98, 114, 97, 115, 115, 32, 99, 97, 110, 100, 101, 108, 97, 98, 114, 117, 109, 32, 100, 111, 110, 97, 116, 101, 100, 32, 98, 121, 32, 76, 101, 111, 110, 97, 114, 100, 32, 80, 105, 100, 100, 111, 99, 107, 101, 32, 44, 32, 72, 105, 103, 104, 32, 66, 97, 105, 108, 105, 102, 102, 32, 111, 102, 32, 76, 101, 105, 99, 101, 115, 116, 101, 114, 32, 44, 32, 105, 110, 32, 49, 55, 51, 51, 32, 46, 32, 73, 116, 32, 105, 115, 32, 115, ...]</td>\n",
       "      <td>large brass candelabrum donated by Leonard Piddocke , High Bailiff of Leicester , in 1733 . It is surmounted by a brass dove and</td>\n",
       "    </tr>\n",
       "  </tbody>\n",
       "</table>\n",
       "</div>"
      ],
      "text/plain": [
       "                                                                                                                                                                                                                                                                                                                                                                                                                                                                                              ids  \\\n",
       "0               [111, 110, 116, 104, 115, 32, 46, 32, 65, 102, 116, 101, 114, 32, 99, 111, 115, 116, 115, 32, 44, 32, 116, 97, 120, 101, 115, 32, 97, 110, 100, 32, 97, 32, 100, 111, 110, 97, 116, 105, 111, 110, 32, 116, 111, 32, 84, 104, 101, 32, 80, 114, 105, 110, 99, 101, 32, 39, 115, 32, 84, 114, 117, 115, 116, 32, 44, 32, 97, 32, 99, 104, 97, 114, 105, 116, 121, 32, 102, 111, 114, 32, 121, 111, 117, 110, 103, 32, 112, 101, 111, 112, 108, 101, 32, 44, 32, 84, 101, 119, ...]   \n",
       "1       [119, 105, 116, 104, 32, 104, 105, 115, 32, 116, 114, 117, 110, 107, 32, 44, 32, 105, 110, 32, 104, 105, 115, 32, 108, 111, 119, 101, 114, 32, 64, 45, 64, 32, 108, 101, 102, 116, 32, 104, 97, 110, 100, 32, 46, 32, 84, 104, 101, 32, 109, 111, 116, 105, 102, 32, 111, 102, 32, 71, 97, 110, 101, 115, 104, 97, 32, 116, 117, 114, 110, 105, 110, 103, 32, 104, 105, 115, 32, 116, 114, 117, 110, 107, 32, 115, 104, 97, 114, 112, 108, 121, 32, 116, 111, 32, 104, 105, 115, 32, ...]   \n",
       "2  [119, 97, 115, 32, 110, 111, 116, 32, 112, 114, 111, 102, 105, 99, 105, 101, 110, 116, 32, 105, 110, 32, 115, 112, 111, 107, 101, 110, 32, 69, 110, 103, 108, 105, 115, 104, 32, 46, 32, 74, 97, 99, 107, 97, 108, 111, 119, 32, 112, 114, 111, 116, 101, 115, 116, 101, 100, 32, 104, 105, 115, 32, 105, 110, 110, 111, 99, 101, 110, 99, 101, 32, 116, 111, 32, 116, 104, 101, 32, 114, 101, 112, 111, 114, 116, 101, 114, 32, 97, 110, 100, 32, 101, 120, 112, 108, 97, 105, 110, 101, ...]   \n",
       "3                  [40, 32, 53, 48, 32, 109, 105, 32, 41, 32, 112, 101, 114, 32, 104, 111, 117, 114, 32, 46, 32, 76, 97, 110, 100, 105, 110, 103, 32, 105, 115, 32, 97, 119, 107, 119, 97, 114, 100, 32, 59, 32, 105, 116, 32, 101, 105, 116, 104, 101, 114, 32, 99, 114, 97, 115, 104, 101, 115, 32, 105, 110, 116, 111, 32, 97, 32, 119, 97, 118, 101, 32, 99, 114, 101, 115, 116, 32, 111, 114, 32, 44, 32, 105, 110, 32, 99, 97, 108, 109, 101, 114, 32, 119, 97, 116, 101, 114, 32, 44, ...]   \n",
       "4           [109, 32, 116, 114, 97, 105, 108, 104, 101, 97, 100, 115, 32, 97, 110, 100, 32, 109, 111, 114, 101, 32, 100, 105, 102, 102, 105, 99, 117, 108, 116, 32, 116, 111, 32, 97, 99, 99, 101, 115, 115, 32, 97, 110, 100, 32, 97, 115, 99, 101, 110, 100, 32, 46, 32, 84, 104, 101, 32, 68, 105, 114, 101, 99, 116, 32, 83, 111, 117, 116, 104, 32, 66, 117, 116, 116, 114, 101, 115, 115, 32, 111, 102, 32, 77, 111, 117, 110, 116, 32, 77, 111, 114, 97, 110, 32, 112, 114, 111, 118, ...]   \n",
       "5                       [32, 112, 114, 111, 100, 117, 99, 116, 105, 111, 110, 32, 119, 97, 115, 32, 104, 97, 110, 100, 108, 101, 100, 32, 98, 121, 32, 87, 101, 115, 116, 32, 44, 32, 66, 104, 97, 115, 107, 101, 114, 32, 44, 32, 77, 105, 107, 101, 32, 68, 101, 97, 110, 32, 44, 32, 81, 32, 64, 45, 64, 32, 84, 105, 112, 32, 97, 110, 100, 32, 68, 111, 110, 32, 74, 97, 122, 122, 121, 32, 46, 32, 84, 104, 101, 32, 115, 111, 110, 103, 32, 119, 97, 115, 32, 114, 101, 99, 111, 114, ...]   \n",
       "6                           [114, 103, 101, 110, 115, 101, 110, 32, 44, 32, 67, 104, 114, 105, 115, 32, 71, 105, 114, 97, 114, 100, 32, 41, 32, 32, 51, 32, 58, 32, 51, 54, 32, 10, 32, 83, 105, 100, 101, 32, 102, 111, 117, 114, 32, 10, 32, 34, 32, 76, 101, 115, 115, 32, 84, 104, 97, 110, 32, 89, 111, 117, 32, 84, 104, 105, 110, 107, 32, 34, 32, 40, 32, 84, 119, 101, 101, 100, 121, 32, 44, 32, 74, 111, 104, 110, 32, 83, 116, 105, 114, 114, 97, 116, 116, 32, 44, 32, 75, 111, ...]   \n",
       "7                          [105, 110, 116, 111, 32, 116, 104, 101, 32, 98, 97, 115, 105, 110, 32, 111, 110, 32, 68, 101, 99, 101, 109, 98, 101, 114, 32, 50, 56, 32, 44, 32, 113, 117, 105, 99, 107, 108, 121, 32, 100, 105, 115, 115, 105, 112, 97, 116, 105, 110, 103, 32, 46, 32, 10, 32, 61, 32, 61, 32, 61, 32, 79, 116, 104, 101, 114, 32, 115, 116, 111, 114, 109, 115, 32, 105, 110, 32, 49, 57, 57, 57, 32, 61, 32, 61, 32, 61, 32, 10, 32, 79, 110, 32, 74, 97, 110, 117, 97, 114, ...]   \n",
       "8               [99, 99, 101, 101, 100, 101, 100, 32, 116, 111, 32, 114, 117, 108, 101, 32, 106, 111, 105, 110, 116, 108, 121, 32, 46, 32, 69, 99, 103, 114, 105, 99, 32, 44, 32, 119, 104, 111, 32, 109, 97, 121, 32, 104, 97, 118, 101, 32, 98, 101, 101, 110, 32, 97, 32, 115, 117, 98, 32, 64, 45, 64, 32, 107, 105, 110, 103, 32, 117, 110, 116, 105, 108, 32, 116, 104, 101, 32, 97, 98, 100, 105, 99, 97, 116, 105, 111, 110, 32, 111, 102, 32, 83, 105, 103, 101, 98, 101, 114, 104, ...]   \n",
       "9                    [32, 108, 97, 114, 103, 101, 32, 98, 114, 97, 115, 115, 32, 99, 97, 110, 100, 101, 108, 97, 98, 114, 117, 109, 32, 100, 111, 110, 97, 116, 101, 100, 32, 98, 121, 32, 76, 101, 111, 110, 97, 114, 100, 32, 80, 105, 100, 100, 111, 99, 107, 101, 32, 44, 32, 72, 105, 103, 104, 32, 66, 97, 105, 108, 105, 102, 102, 32, 111, 102, 32, 76, 101, 105, 99, 101, 115, 116, 101, 114, 32, 44, 32, 105, 110, 32, 49, 55, 51, 51, 32, 46, 32, 73, 116, 32, 105, 115, 32, 115, ...]   \n",
       "\n",
       "                                                                                                                                  text  \n",
       "0    onths . After costs , taxes and a donation to The Prince 's Trust , a charity for young people , Tew expected his net income to b  \n",
       "1    with his trunk , in his lower @-@ left hand . The motif of Ganesha turning his trunk sharply to his left to taste a sweet in his   \n",
       "2    was not proficient in spoken English . Jackalow protested his innocence to the reporter and explained that he was Japanese , from  \n",
       "3    ( 50 mi ) per hour . Landing is awkward ; it either crashes into a wave crest or , in calmer water , does a belly flop . While at  \n",
       "4    m trailheads and more difficult to access and ascend . The Direct South Buttress of Mount Moran provides a vertical mile of climb  \n",
       "5     production was handled by West , Bhasker , Mike Dean , Q @-@ Tip and Don Jazzy . The song was recorded in Sydney , Australia . I  \n",
       "6  rgensen , Chris Girard )  3 : 36 \\n Side four \\n \" Less Than You Think \" ( Tweedy , John Stirratt , Kotche , Jorgensen , Leroy Bach  \n",
       "7  into the basin on December 28 , quickly dissipating . \\n = = = Other storms in 1999 = = = \\n On January 1 , an area of convection p  \n",
       "8    cceeded to rule jointly . Ecgric , who may have been a sub @-@ king until the abdication of Sigeberht in around 634 , seems to ha  \n",
       "9     large brass candelabrum donated by Leonard Piddocke , High Bailiff of Leicester , in 1733 . It is surmounted by a brass dove and  "
      ]
     },
     "execution_count": 23,
     "metadata": {},
     "output_type": "execute_result"
    }
   ],
   "source": [
    "def load_samples(ds, tok, n=10):\n",
    "    it = iter(ds)\n",
    "    rows = []\n",
    "    for i in range(n):\n",
    "        row = {}\n",
    "        row['ids'] = [id for id in next(it).cpu().numpy()]\n",
    "        row['text'] = tok.decode(row['ids'])\n",
    "        rows.append(row)\n",
    "    return pd.DataFrame(rows)\n",
    "\n",
    "load_samples(ds, tok)"
   ]
  },
  {
   "cell_type": "code",
   "execution_count": null,
   "id": "979b2ee7",
   "metadata": {},
   "outputs": [],
   "source": []
  }
 ],
 "metadata": {
  "kernelspec": {
   "display_name": "Python 3 (ipykernel)",
   "language": "python",
   "name": "python3"
  },
  "language_info": {
   "codemirror_mode": {
    "name": "ipython",
    "version": 3
   },
   "file_extension": ".py",
   "mimetype": "text/x-python",
   "name": "python",
   "nbconvert_exporter": "python",
   "pygments_lexer": "ipython3",
   "version": "3.8.12"
  }
 },
 "nbformat": 4,
 "nbformat_minor": 5
}
