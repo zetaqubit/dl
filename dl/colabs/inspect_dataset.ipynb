{
 "cells": [
  {
   "cell_type": "code",
   "execution_count": 12,
   "id": "43b0ee75",
   "metadata": {},
   "outputs": [],
   "source": [
    "import os\n",
    "os.chdir('/home/z/code/zetaqubit/dl')"
   ]
  },
  {
   "cell_type": "code",
   "execution_count": 13,
   "id": "bc7a4cae",
   "metadata": {},
   "outputs": [
    {
     "name": "stdout",
     "output_type": "stream",
     "text": [
      "/home/z/code/zetaqubit/dl\r\n"
     ]
    }
   ],
   "source": [
    "!pwd"
   ]
  },
  {
   "cell_type": "code",
   "execution_count": 48,
   "id": "d2e8f264",
   "metadata": {},
   "outputs": [],
   "source": [
    "import pandas as pd\n",
    "import numpy as np\n",
    "pd.set_option ('display.max_colwidth', None)"
   ]
  },
  {
   "cell_type": "code",
   "execution_count": 14,
   "id": "f6c930dd",
   "metadata": {},
   "outputs": [
    {
     "name": "stderr",
     "output_type": "stream",
     "text": [
      "/home/z/tools/conda/envs/dl/lib/python3.8/site-packages/tqdm/auto.py:22: TqdmWarning: IProgress not found. Please update jupyter and ipywidgets. See https://ipywidgets.readthedocs.io/en/stable/user_install.html\n",
      "  from .autonotebook import tqdm as notebook_tqdm\n"
     ]
    }
   ],
   "source": [
    "from dl.colabs import colab_utils as cu"
   ]
  },
  {
   "cell_type": "code",
   "execution_count": 16,
   "id": "08aa133b",
   "metadata": {},
   "outputs": [
    {
     "name": "stdout",
     "output_type": "stream",
     "text": [
      "The autoreload extension is already loaded. To reload it, use:\n",
      "  %reload_ext autoreload\n",
      "The autoreload extension is already loaded. To reload it, use:\n",
      "  %reload_ext autoreload\n"
     ]
    },
    {
     "data": {
      "text/plain": [
       "<module 'dl.colabs.colab_utils' from '/home/z/code/zetaqubit/dl/dl/colabs/colab_utils.py'>"
      ]
     },
     "execution_count": 16,
     "metadata": {},
     "output_type": "execute_result"
    }
   ],
   "source": [
    "cu.autoreload()\n",
    "cu.reload(cu)"
   ]
  },
  {
   "cell_type": "code",
   "execution_count": 25,
   "id": "ae2f3d6d",
   "metadata": {},
   "outputs": [],
   "source": [
    "cu.clear()"
   ]
  },
  {
   "cell_type": "code",
   "execution_count": 36,
   "id": "4236436e",
   "metadata": {},
   "outputs": [],
   "source": [
    "import gin\n",
    "from dl.data import tokenizers\n",
    "\n",
    "tok_type = 'gpt2'\n",
    "max_seq_len = 128\n",
    "tok = tokenizers.create(tok_type, max_seq_len=max_seq_len)"
   ]
  },
  {
   "cell_type": "code",
   "execution_count": 50,
   "id": "af9b12b1",
   "metadata": {},
   "outputs": [],
   "source": [
    "from dl.data import dataset\n",
    "\n",
    "ds_name = 'ptb'\n",
    "ds = dataset.MemoryMappedDataset(ds_name, f'{tok_type}.train', max_seq_len+1)"
   ]
  },
  {
   "cell_type": "code",
   "execution_count": 51,
   "id": "af1f9956",
   "metadata": {},
   "outputs": [
    {
     "data": {
      "text/plain": [
       "tensor([30545,   326,   561,  7616,   262, 30145,   284,   584, 16392,   286,\n",
       "         2489,   284,  2822,  3224,  7303,   286,   299,  1077,  6413,  2219,\n",
       "          379,  2063,  2756, 50256,   259,  3090,   262,  1664,   705,    82,\n",
       "         3096, 10435,   262,  5001,   286,   510,   284,   281,  3224,   530,\n",
       "         1510,  7303, 50256,  4625,   257,  1430,  6325,   416,   262,  1664,\n",
       "          287,   399,   326,   750,   299,   470, 11986,   257,  2648,  2033,\n",
       "          299,  1077,  6413,   550,  8155,   399,  7303,   832,   384,   457,\n",
       "           13,   399, 50256,  1000,    87,   339,   358,   882,   281, 12499,\n",
       "          379, 25220,  1843,    12,    65,  4891, 16145,   531,   326,   981,\n",
       "          299,  1077,  6413,   705,    82,  2854,   428,   614,   468,   587,\n",
       "         1279,  2954,    29,   262,  1664, 19018,   318, 10966,   355,   257,\n",
       "         6833, 41584,  4540,   780,   612,   705,    82,   645, 26789,  1022,\n",
       "          663,  1440,  5692, 50256,   258,  6108,   262, 41584,  1988],\n",
       "       device='cuda:0')"
      ]
     },
     "execution_count": 51,
     "metadata": {},
     "output_type": "execute_result"
    }
   ],
   "source": [
    "next(iter(ds))"
   ]
  },
  {
   "cell_type": "code",
   "execution_count": 58,
   "id": "65143c93",
   "metadata": {},
   "outputs": [
    {
     "data": {
      "text/html": [
       "<div>\n",
       "<style scoped>\n",
       "    .dataframe tbody tr th:only-of-type {\n",
       "        vertical-align: middle;\n",
       "    }\n",
       "\n",
       "    .dataframe tbody tr th {\n",
       "        vertical-align: top;\n",
       "    }\n",
       "\n",
       "    .dataframe thead th {\n",
       "        text-align: right;\n",
       "    }\n",
       "</style>\n",
       "<table border=\"1\" class=\"dataframe\">\n",
       "  <thead>\n",
       "    <tr style=\"text-align: right;\">\n",
       "      <th></th>\n",
       "      <th>ids</th>\n",
       "      <th>text</th>\n",
       "    </tr>\n",
       "  </thead>\n",
       "  <tbody>\n",
       "    <tr>\n",
       "      <th>0</th>\n",
       "      <td>[22397, 439, 468, 262, 1279, 2954, 29, 407, 284, 1414, 1139, 1279, 2954, 29, 1279, 2954, 29, 4903, 2398, 544, 12, 33587, 811, 705, 82, 4640, 7927, 1893, 329, 38341, 290, 3348, 50256, 82, 592, 1279, 2954, 29, 11602, 474, 6996, 1279, 2954, 29, 7927, 1893, 6355, 2478, 379, 1279, 2954, 29, 11798, 753, 13, 339, 318, 299, 470, 286, 262, 1468, 1524, 286, 5442, 379, 597, 1575, 50256, 258, 635, 318, 257, 11529, 4706, 31594, 910, 50256, 1169, 2551, 284, 787, 262, 8406, 329, 497, 7204, 8546, 329, 1672, 373, 925, 691, 706, 477, 2237, 1866, 286, 4903, 2398, ...]</td>\n",
       "      <td>marshall has the &lt;unk&gt; not to pay says &lt;unk&gt; &lt;unk&gt; georgia-pacific 's executive vice president for pulp and paper&lt;|endoftext|&gt;says &lt;unk&gt; associate jerry &lt;unk&gt; vice president corporate development at &lt;unk&gt; industries inc. he is n't of the old school of winning at any cost&lt;|endoftext|&gt;he also is a consensus manager insiders say&lt;|endoftext|&gt;the decision to make the bid for nekoosa for example was made only after all six members of georgia-pacific 's management committee signed onto the deal even though mr. hahn knew he wanted to go after the company early on</td>\n",
       "    </tr>\n",
       "    <tr>\n",
       "      <th>1</th>\n",
       "      <td>[2954, 29, 2706, 329, 1672, 423, 1865, 284, 307, 3938, 3017, 287, 674, 10784, 7869, 50256, 77, 11458, 399, 812, 2084, 10826, 286, 1279, 2954, 29, 2706, 3111, 503, 257, 1410, 351, 262, 19497, 5011, 284, 2987, 262, 1366, 319, 1279, 2954, 29, 15319, 50256, 16885, 2628, 4762, 326, 11192, 286, 13188, 286, 5054, 286, 2139, 15319, 884, 355, 1279, 2954, 29, 19277, 2742, 14317, 290, 584, 4708, 2594, 1279, 2954, 29, 284, 19670, 3176, 8705, 290, 5103, 2594, 290, 262, 588, 547, 407, 852, 14789, 355, 15319, 50256, 1169, 9651, 3292, 11807, 3785, 318, 3614, 284, 4569, 20813, 3292, ...]</td>\n",
       "      <td>unk&gt; companies for example have yet to be fully included in our export statistics&lt;|endoftext|&gt;nearly N years ago representatives of &lt;unk&gt; companies worked out a plan with the commerce department to improve the data on &lt;unk&gt; exports&lt;|endoftext|&gt;both groups believed that tens of billions of dollars of service exports such as &lt;unk&gt; tourism legal accounting and other professional services &lt;unk&gt; to foreigners financial engineering and construction services and the like were not being counted as exports&lt;|endoftext|&gt;the monthly trade deficit figure is limited to traditional merchandise trade manufactured goods and raw materials&lt;|endoftext|&gt;in the quarterly &lt;unk&gt; report those merchandise trade figures are merged with statistics on exports and imports of services as well</td>\n",
       "    </tr>\n",
       "    <tr>\n",
       "      <th>2</th>\n",
       "      <td>[1910, 329, 11171, 12, 17078, 16145, 318, 5365, 649, 290, 881, 1342, 4075, 621, 329, 38115, 2428, 50256, 5562, 714, 787, 340, 17198, 329, 7713, 508, 761, 284, 3677, 511, 27572, 2952, 878, 262, 16145, 15345, 50256, 5562, 705, 82, 3573, 2081, 13440, 910, 329, 1728, 286, 262, 16145, 884, 355, 883, 9763, 416, 1279, 2954, 29, 10021, 50256, 5832, 714, 766, 4858, 308, 2417, 602, 994, 780, 340, 705, 82, 884, 257, 1279, 2954, 29, 14018, 1910, 1139, 474, 261, 6696, 264, 13, 1582, 271, 257, 7927, 1893, 286, 11063, 431, 272, 7713, 753, 13, 257, 649, 331, 967, ...]</td>\n",
       "      <td>market for asset-backed securities is relatively new and much less active than for treasury issues&lt;|endoftext|&gt;that could make it tricky for investors who need to sell their holdings quickly before the securities mature&lt;|endoftext|&gt;that 's particularly true analysts say for certain of the securities such as those backed by &lt;unk&gt; loans&lt;|endoftext|&gt;you could see massive gyrations here because it 's such a &lt;unk&gt; traded market says jonathan s. paris a vice president of european investors inc. a new york &lt;unk&gt; firm&lt;|endoftext|&gt;in addition an investor who wants to know the daily value of treasury bonds or corporate bonds traded on the new york stock</td>\n",
       "    </tr>\n",
       "    <tr>\n",
       "      <th>3</th>\n",
       "      <td>[399, 50256, 73, 1047, 1279, 2954, 29, 4039, 5969, 12, 12519, 25651, 379, 4017, 20190, 31432, 354, 318, 48120, 1279, 2954, 29, 16145, 543, 339, 1139, 815, 4414, 517, 2952, 621, 2392, 12, 4354, 13100, 355, 1393, 3965, 2121, 50256, 35569, 674, 11092, 329, 2793, 3965, 13339, 925, 783, 815, 5879, 2407, 23404, 878, 614, 886, 339, 531, 50256, 43395, 13, 1279, 2954, 29, 635, 7832, 890, 12, 4354, 4896, 12, 9526, 6355, 13100, 290, 890, 12, 4354, 2054, 292, 333, 893, 50256, 258, 1139, 777, 13100, 815, 9144, 287, 1988, 355, 617, 7713, 33413, 284, 262, 2274, 26962, 287, ...]</td>\n",
       "      <td>N&lt;|endoftext|&gt;james &lt;unk&gt; chief fixed-income strategist at merrill lynch is touting &lt;unk&gt; securities which he says should benefit more quickly than longer-term bonds as interest rates fall&lt;|endoftext|&gt;given our forecast for lower rates purchases made now should prove quite rewarding before year end he said&lt;|endoftext|&gt;mr. &lt;unk&gt; also likes long-term investment-grade corporate bonds and long-term treasurys&lt;|endoftext|&gt;he says these bonds should appreciate in value as some investors reacting to the recent turmoil in the stock and high-yield junk bond markets seek safer securities&lt;|endoftext|&gt;if the tennessee valley authority sale is any guide there appears to be</td>\n",
       "    </tr>\n",
       "    <tr>\n",
       "      <th>4</th>\n",
       "      <td>[262, 3095, 7038, 1312, 892, 611, 1312, 1560, 606, 1312, 761, 517, 640, 484, 705, 297, 1011, 8615, 1525, 1973, 262, 4675, 50256, 8903, 330, 296, 705, 82, 1445, 2058, 355, 262, 1279, 2954, 29, 1910, 318, 852, 21050, 351, 3074, 1279, 2954, 29, 326, 389, 991, 2491, 319, 262, 7686, 50256, 505, 4429, 4706, 1139, 339, 5804, 410, 9607, 296, 705, 82, 1445, 318, 257, 1279, 2954, 29, 5587, 780, 262, 1664, 318, 7960, 326, 8615, 1525, 10109, 481, 2555, 284, 4268, 287, 1279, 2954, 29, 625, 262, 1306, 1178, 812, 50256, 6966, 1525, 318, 866, 257, 1336, 10109, ...]</td>\n",
       "      <td>the midwest i think if i tell them i need more time they 'll take cosby across the street&lt;|endoftext|&gt;viacom 's move comes as the &lt;unk&gt; market is being flooded with situation &lt;unk&gt; that are still running on the networks&lt;|endoftext|&gt;one station manager says he believes viacom 's move is a &lt;unk&gt; strike because the company is worried that cosby ratings will continue to drop in &lt;unk&gt; over the next few years&lt;|endoftext|&gt;cosby is down a full ratings point in the week of oct. N over the same week a year ago according to a.c. nielsen co&lt;|endoftext|&gt;mr. &lt;unk</td>\n",
       "    </tr>\n",
       "    <tr>\n",
       "      <th>5</th>\n",
       "      <td>[374, 31562, 1279, 2954, 29, 257, 649, 331, 967, 7072, 12228, 416, 290, 329, 523, 85, 1155, 1279, 2954, 29, 673, 750, 299, 470, 765, 262, 1279, 2954, 29, 1279, 2954, 29, 2647, 1279, 2954, 29, 832, 262, 2119, 50256, 5832, 661, 994, 892, 428, 318, 374, 31562, 2647, 673, 531, 351, 1279, 2954, 29, 290, 1444, 625, 284, 262, 1279, 2954, 29, 714, 345, 1210, 340, 572, 50256, 5562, 1760, 13845, 13, 2322, 482, 71, 5158, 351, 26262, 1279, 2954, 29, 546, 262, 867, 12608, 673, 5300, 673, 373, 4642, 351, 281, 4547, 286, 2057, 1597, 374, 31562, 3968, ...]</td>\n",
       "      <td>russian &lt;unk&gt; a new york restaurant operated by and for soviet &lt;unk&gt; she did n't want the &lt;unk&gt; &lt;unk&gt; music &lt;unk&gt; through the room&lt;|endoftext|&gt;you people here think this is russian music she said with &lt;unk&gt; and called over to the &lt;unk&gt; could you turn it off&lt;|endoftext|&gt;that done ms. volokh spoke with rampant &lt;unk&gt; about the many attributes she feels she was born with an understanding of food business russian culture human nature and parties&lt;|endoftext|&gt;parties are rather a state of mind she said &lt;unk&gt; only to taste and pass judgment on the &lt;unk&gt;</td>\n",
       "    </tr>\n",
       "    <tr>\n",
       "      <th>6</th>\n",
       "      <td>[50256, 4033, 2178, 544, 635, 468, 1279, 2954, 29, 8810, 287, 663, 1171, 13598, 16145, 15320, 286, 517, 621, 720, 399, 1510, 50256, 67, 8490, 275, 13, 1279, 2954, 29, 287, 649, 331, 967, 8639, 284, 428, 2708, 50256, 27, 2954, 29, 8615, 13, 531, 340, 3352, 284, 19855, 9780, 663, 1688, 6099, 11394, 4634, 262, 3800, 329, 257, 6196, 1279, 2954, 29, 2756, 1175, 355, 262, 2603, 870, 2831, 705, 82, 3349, 4477, 284, 3105, 50256, 272, 258, 7220, 262, 995, 705, 82, 4387, 47695, 290, 334, 13, 82, 13, 1910, 3554, 468, 15074, 587, 18416, 284, 8209, 287, ...]</td>\n",
       "      <td>&lt;|endoftext|&gt;columbia also has &lt;unk&gt; gains in its public equity securities portfolio of more than $ N million&lt;|endoftext|&gt;david b. &lt;unk&gt; in new york contributed to this article&lt;|endoftext|&gt;&lt;unk&gt; cos. said it plans to aggressively discount its major beer brands setting the stage for a potentially &lt;unk&gt; price war as the maturing industry 's growth continues to slow&lt;|endoftext|&gt;anheuser the world 's largest brewer and u.s. market leader has historically been reluctant to engage in &lt;unk&gt; as a means of boosting sales volume&lt;|endoftext|&gt;with the passing of the &lt;unk&gt; days of swelling industry sales however the &lt;unk&gt;</td>\n",
       "    </tr>\n",
       "    <tr>\n",
       "      <th>7</th>\n",
       "      <td>[47930, 329, 7585, 523, 1279, 2954, 29, 460, 307, 319, 262, 2975, 416, 399, 50256, 3919, 6491, 318, 1944, 379, 262, 3329, 5301, 3297, 475, 262, 1429, 318, 19032, 4688, 284, 6491, 14676, 50256, 732, 705, 260, 5364, 284, 5203, 262, 6491, 705, 82, 5301, 416, 257, 5081, 640, 3221, 399, 4710, 1278, 1697, 1279, 2954, 29, 257, 2717, 4911, 1279, 2954, 29, 508, 2957, 262, 1279, 2954, 29, 1074, 50256, 1169, 14556, 674, 47930, 2277, 262, 2975, 1123, 3329, 262, 4577, 340, 318, 329, 514, 284, 14658, 326, 12990, 50256, 27780, 278, 257, 1279, 2954, 29, 10451, 973, 416, ...]</td>\n",
       "      <td>vans for delivery so &lt;unk&gt; can be on the road by N&lt;|endoftext|&gt;no customer is present at the morning package sort but the process is nevertheless critical to customer satisfaction&lt;|endoftext|&gt;we 're committed to deliver the customer 's package by a stated time usually N notes glenn &lt;unk&gt; a federal express &lt;unk&gt; who led the &lt;unk&gt; team&lt;|endoftext|&gt;the sooner our vans hit the road each morning the easier it is for us to fulfill that obligation&lt;|endoftext|&gt;following a &lt;unk&gt; formula used by teams throughout federal express members of the &lt;unk&gt; team monitored their morning routine carefully noting where and when the work group 's resources were used effectively</td>\n",
       "    </tr>\n",
       "    <tr>\n",
       "      <th>8</th>\n",
       "      <td>[468, 9835, 587, 530, 286, 262, 749, 8361, 9611, 287, 20729, 11754, 290, 326, 257, 845, 2383, 6903, 286, 262, 4081, 705, 82, 7630, 287, 2274, 812, 468, 1282, 422, 20729, 1279, 2954, 29, 1597, 50256, 76, 702, 88, 705, 82, 5804, 326, 262, 8627, 2858, 329, 20729, 11754, 714, 1234, 3833, 319, 50115, 717, 275, 5744, 705, 82, 2854, 262, 7955, 2328, 531, 12988, 3767, 2761, 422, 262, 4081, 705, 82, 32185, 284, 2972, 1279, 2954, 29, 9611, 290, 284, 11752, 952, 1279, 2954, 29, 50256, 27218, 734, 32185, 3436, 2380, 257, 845, 8904, 6903, 286, 50115, 717, 275, ...]</td>\n",
       "      <td>has consistently been one of the most aggressive firms in merchant banking and that a very significant portion of the firm 's profit in recent years has come from merchant &lt;unk&gt; business&lt;|endoftext|&gt;moody 's believes that the uncertain environment for merchant banking could put pressure on cs first boston 's performance the rating concern said citing continued problems from the firm 's exposures to various &lt;unk&gt; firms and to ohio &lt;unk&gt;&lt;|endoftext|&gt;these two exposures alone represent a very substantial portion of cs first boston 's equity moody 's said&lt;|endoftext|&gt;total merchant banking exposures are in excess of the firm 's equity&lt;|endoftext|&gt;quotron systems inc</td>\n",
       "    </tr>\n",
       "    <tr>\n",
       "      <th>9</th>\n",
       "      <td>[12990, 13100, 1625, 739, 6301, 3833, 50256, 2213, 9972, 531, 257, 11831, 4269, 286, 13100, 373, 1234, 510, 329, 5466, 7415, 7796, 19299, 329, 2392, 285, 2541, 871, 510, 399, 5873, 966, 50256, 2213, 9972, 531, 7713, 547, 33413, 284, 2274, 4633, 1705, 319, 262, 1748, 705, 82, 20903, 290, 389, 10927, 4058, 286, 262, 645, 85, 13, 399, 3071, 50256, 86, 2542, 288, 13, 66, 13, 20633, 262, 7606, 27589, 7415, 351, 257, 5466, 286, 720, 399, 1510, 286, 2276, 12990, 1687, 6426, 24054, 4710, 50256, 259, 2739, 7313, 649, 22383, 1210, 79, 522, 4934, 705, 82, 399, 399, ...]</td>\n",
       "      <td>obligation bonds came under selling pressure&lt;|endoftext|&gt;traders said a steady stream of bonds was put up for sale yesterday pushing yields for longer maturities up N percentage point&lt;|endoftext|&gt;traders said investors were reacting to recent negative news on the city 's finances and are nervous ahead of the nov. N election&lt;|endoftext|&gt;washington d.c. topped the competitive slate yesterday with a sale of $ N million of general obligation tax revenue anticipation notes&lt;|endoftext|&gt;in late trading new jersey turnpike authority 's N N issue of N was off N point at N bid&lt;|endoftext|&gt;the yield was N N up N percentage point&lt;|endoftext|&gt;mortgage-backed securities&lt;|endoftext|&gt;mortgage</td>\n",
       "    </tr>\n",
       "  </tbody>\n",
       "</table>\n",
       "</div>"
      ],
      "text/plain": [
       "                                                                                                                                                                                                                                                                                                                                                                                                                                                                                                                                                                                                 ids  \\\n",
       "0                        [22397, 439, 468, 262, 1279, 2954, 29, 407, 284, 1414, 1139, 1279, 2954, 29, 1279, 2954, 29, 4903, 2398, 544, 12, 33587, 811, 705, 82, 4640, 7927, 1893, 329, 38341, 290, 3348, 50256, 82, 592, 1279, 2954, 29, 11602, 474, 6996, 1279, 2954, 29, 7927, 1893, 6355, 2478, 379, 1279, 2954, 29, 11798, 753, 13, 339, 318, 299, 470, 286, 262, 1468, 1524, 286, 5442, 379, 597, 1575, 50256, 258, 635, 318, 257, 11529, 4706, 31594, 910, 50256, 1169, 2551, 284, 787, 262, 8406, 329, 497, 7204, 8546, 329, 1672, 373, 925, 691, 706, 477, 2237, 1866, 286, 4903, 2398, ...]   \n",
       "1  [2954, 29, 2706, 329, 1672, 423, 1865, 284, 307, 3938, 3017, 287, 674, 10784, 7869, 50256, 77, 11458, 399, 812, 2084, 10826, 286, 1279, 2954, 29, 2706, 3111, 503, 257, 1410, 351, 262, 19497, 5011, 284, 2987, 262, 1366, 319, 1279, 2954, 29, 15319, 50256, 16885, 2628, 4762, 326, 11192, 286, 13188, 286, 5054, 286, 2139, 15319, 884, 355, 1279, 2954, 29, 19277, 2742, 14317, 290, 584, 4708, 2594, 1279, 2954, 29, 284, 19670, 3176, 8705, 290, 5103, 2594, 290, 262, 588, 547, 407, 852, 14789, 355, 15319, 50256, 1169, 9651, 3292, 11807, 3785, 318, 3614, 284, 4569, 20813, 3292, ...]   \n",
       "2                     [1910, 329, 11171, 12, 17078, 16145, 318, 5365, 649, 290, 881, 1342, 4075, 621, 329, 38115, 2428, 50256, 5562, 714, 787, 340, 17198, 329, 7713, 508, 761, 284, 3677, 511, 27572, 2952, 878, 262, 16145, 15345, 50256, 5562, 705, 82, 3573, 2081, 13440, 910, 329, 1728, 286, 262, 16145, 884, 355, 883, 9763, 416, 1279, 2954, 29, 10021, 50256, 5832, 714, 766, 4858, 308, 2417, 602, 994, 780, 340, 705, 82, 884, 257, 1279, 2954, 29, 14018, 1910, 1139, 474, 261, 6696, 264, 13, 1582, 271, 257, 7927, 1893, 286, 11063, 431, 272, 7713, 753, 13, 257, 649, 331, 967, ...]   \n",
       "3          [399, 50256, 73, 1047, 1279, 2954, 29, 4039, 5969, 12, 12519, 25651, 379, 4017, 20190, 31432, 354, 318, 48120, 1279, 2954, 29, 16145, 543, 339, 1139, 815, 4414, 517, 2952, 621, 2392, 12, 4354, 13100, 355, 1393, 3965, 2121, 50256, 35569, 674, 11092, 329, 2793, 3965, 13339, 925, 783, 815, 5879, 2407, 23404, 878, 614, 886, 339, 531, 50256, 43395, 13, 1279, 2954, 29, 635, 7832, 890, 12, 4354, 4896, 12, 9526, 6355, 13100, 290, 890, 12, 4354, 2054, 292, 333, 893, 50256, 258, 1139, 777, 13100, 815, 9144, 287, 1988, 355, 617, 7713, 33413, 284, 262, 2274, 26962, 287, ...]   \n",
       "4                        [262, 3095, 7038, 1312, 892, 611, 1312, 1560, 606, 1312, 761, 517, 640, 484, 705, 297, 1011, 8615, 1525, 1973, 262, 4675, 50256, 8903, 330, 296, 705, 82, 1445, 2058, 355, 262, 1279, 2954, 29, 1910, 318, 852, 21050, 351, 3074, 1279, 2954, 29, 326, 389, 991, 2491, 319, 262, 7686, 50256, 505, 4429, 4706, 1139, 339, 5804, 410, 9607, 296, 705, 82, 1445, 318, 257, 1279, 2954, 29, 5587, 780, 262, 1664, 318, 7960, 326, 8615, 1525, 10109, 481, 2555, 284, 4268, 287, 1279, 2954, 29, 625, 262, 1306, 1178, 812, 50256, 6966, 1525, 318, 866, 257, 1336, 10109, ...]   \n",
       "5                                 [374, 31562, 1279, 2954, 29, 257, 649, 331, 967, 7072, 12228, 416, 290, 329, 523, 85, 1155, 1279, 2954, 29, 673, 750, 299, 470, 765, 262, 1279, 2954, 29, 1279, 2954, 29, 2647, 1279, 2954, 29, 832, 262, 2119, 50256, 5832, 661, 994, 892, 428, 318, 374, 31562, 2647, 673, 531, 351, 1279, 2954, 29, 290, 1444, 625, 284, 262, 1279, 2954, 29, 714, 345, 1210, 340, 572, 50256, 5562, 1760, 13845, 13, 2322, 482, 71, 5158, 351, 26262, 1279, 2954, 29, 546, 262, 867, 12608, 673, 5300, 673, 373, 4642, 351, 281, 4547, 286, 2057, 1597, 374, 31562, 3968, ...]   \n",
       "6                            [50256, 4033, 2178, 544, 635, 468, 1279, 2954, 29, 8810, 287, 663, 1171, 13598, 16145, 15320, 286, 517, 621, 720, 399, 1510, 50256, 67, 8490, 275, 13, 1279, 2954, 29, 287, 649, 331, 967, 8639, 284, 428, 2708, 50256, 27, 2954, 29, 8615, 13, 531, 340, 3352, 284, 19855, 9780, 663, 1688, 6099, 11394, 4634, 262, 3800, 329, 257, 6196, 1279, 2954, 29, 2756, 1175, 355, 262, 2603, 870, 2831, 705, 82, 3349, 4477, 284, 3105, 50256, 272, 258, 7220, 262, 995, 705, 82, 4387, 47695, 290, 334, 13, 82, 13, 1910, 3554, 468, 15074, 587, 18416, 284, 8209, 287, ...]   \n",
       "7              [47930, 329, 7585, 523, 1279, 2954, 29, 460, 307, 319, 262, 2975, 416, 399, 50256, 3919, 6491, 318, 1944, 379, 262, 3329, 5301, 3297, 475, 262, 1429, 318, 19032, 4688, 284, 6491, 14676, 50256, 732, 705, 260, 5364, 284, 5203, 262, 6491, 705, 82, 5301, 416, 257, 5081, 640, 3221, 399, 4710, 1278, 1697, 1279, 2954, 29, 257, 2717, 4911, 1279, 2954, 29, 508, 2957, 262, 1279, 2954, 29, 1074, 50256, 1169, 14556, 674, 47930, 2277, 262, 2975, 1123, 3329, 262, 4577, 340, 318, 329, 514, 284, 14658, 326, 12990, 50256, 27780, 278, 257, 1279, 2954, 29, 10451, 973, 416, ...]   \n",
       "8                     [468, 9835, 587, 530, 286, 262, 749, 8361, 9611, 287, 20729, 11754, 290, 326, 257, 845, 2383, 6903, 286, 262, 4081, 705, 82, 7630, 287, 2274, 812, 468, 1282, 422, 20729, 1279, 2954, 29, 1597, 50256, 76, 702, 88, 705, 82, 5804, 326, 262, 8627, 2858, 329, 20729, 11754, 714, 1234, 3833, 319, 50115, 717, 275, 5744, 705, 82, 2854, 262, 7955, 2328, 531, 12988, 3767, 2761, 422, 262, 4081, 705, 82, 32185, 284, 2972, 1279, 2954, 29, 9611, 290, 284, 11752, 952, 1279, 2954, 29, 50256, 27218, 734, 32185, 3436, 2380, 257, 845, 8904, 6903, 286, 50115, 717, 275, ...]   \n",
       "9              [12990, 13100, 1625, 739, 6301, 3833, 50256, 2213, 9972, 531, 257, 11831, 4269, 286, 13100, 373, 1234, 510, 329, 5466, 7415, 7796, 19299, 329, 2392, 285, 2541, 871, 510, 399, 5873, 966, 50256, 2213, 9972, 531, 7713, 547, 33413, 284, 2274, 4633, 1705, 319, 262, 1748, 705, 82, 20903, 290, 389, 10927, 4058, 286, 262, 645, 85, 13, 399, 3071, 50256, 86, 2542, 288, 13, 66, 13, 20633, 262, 7606, 27589, 7415, 351, 257, 5466, 286, 720, 399, 1510, 286, 2276, 12990, 1687, 6426, 24054, 4710, 50256, 259, 2739, 7313, 649, 22383, 1210, 79, 522, 4934, 705, 82, 399, 399, ...]   \n",
       "\n",
       "                                                                                                                                                                                                                                                                                                                                                                                                                                                                                                                                                                                                                                                                                                                                                                                                   text  \n",
       "0                                                                                                                                                                                                                     marshall has the <unk> not to pay says <unk> <unk> georgia-pacific 's executive vice president for pulp and paper<|endoftext|>says <unk> associate jerry <unk> vice president corporate development at <unk> industries inc. he is n't of the old school of winning at any cost<|endoftext|>he also is a consensus manager insiders say<|endoftext|>the decision to make the bid for nekoosa for example was made only after all six members of georgia-pacific 's management committee signed onto the deal even though mr. hahn knew he wanted to go after the company early on  \n",
       "1  unk> companies for example have yet to be fully included in our export statistics<|endoftext|>nearly N years ago representatives of <unk> companies worked out a plan with the commerce department to improve the data on <unk> exports<|endoftext|>both groups believed that tens of billions of dollars of service exports such as <unk> tourism legal accounting and other professional services <unk> to foreigners financial engineering and construction services and the like were not being counted as exports<|endoftext|>the monthly trade deficit figure is limited to traditional merchandise trade manufactured goods and raw materials<|endoftext|>in the quarterly <unk> report those merchandise trade figures are merged with statistics on exports and imports of services as well  \n",
       "2                                                                                                                           market for asset-backed securities is relatively new and much less active than for treasury issues<|endoftext|>that could make it tricky for investors who need to sell their holdings quickly before the securities mature<|endoftext|>that 's particularly true analysts say for certain of the securities such as those backed by <unk> loans<|endoftext|>you could see massive gyrations here because it 's such a <unk> traded market says jonathan s. paris a vice president of european investors inc. a new york <unk> firm<|endoftext|>in addition an investor who wants to know the daily value of treasury bonds or corporate bonds traded on the new york stock  \n",
       "3                                                                                                           N<|endoftext|>james <unk> chief fixed-income strategist at merrill lynch is touting <unk> securities which he says should benefit more quickly than longer-term bonds as interest rates fall<|endoftext|>given our forecast for lower rates purchases made now should prove quite rewarding before year end he said<|endoftext|>mr. <unk> also likes long-term investment-grade corporate bonds and long-term treasurys<|endoftext|>he says these bonds should appreciate in value as some investors reacting to the recent turmoil in the stock and high-yield junk bond markets seek safer securities<|endoftext|>if the tennessee valley authority sale is any guide there appears to be  \n",
       "4                                                                                                                                                                                                                           the midwest i think if i tell them i need more time they 'll take cosby across the street<|endoftext|>viacom 's move comes as the <unk> market is being flooded with situation <unk> that are still running on the networks<|endoftext|>one station manager says he believes viacom 's move is a <unk> strike because the company is worried that cosby ratings will continue to drop in <unk> over the next few years<|endoftext|>cosby is down a full ratings point in the week of oct. N over the same week a year ago according to a.c. nielsen co<|endoftext|>mr. <unk  \n",
       "5                                                                                                                                                                                                                               russian <unk> a new york restaurant operated by and for soviet <unk> she did n't want the <unk> <unk> music <unk> through the room<|endoftext|>you people here think this is russian music she said with <unk> and called over to the <unk> could you turn it off<|endoftext|>that done ms. volokh spoke with rampant <unk> about the many attributes she feels she was born with an understanding of food business russian culture human nature and parties<|endoftext|>parties are rather a state of mind she said <unk> only to taste and pass judgment on the <unk>  \n",
       "6                                                                                                                                                              <|endoftext|>columbia also has <unk> gains in its public equity securities portfolio of more than $ N million<|endoftext|>david b. <unk> in new york contributed to this article<|endoftext|><unk> cos. said it plans to aggressively discount its major beer brands setting the stage for a potentially <unk> price war as the maturing industry 's growth continues to slow<|endoftext|>anheuser the world 's largest brewer and u.s. market leader has historically been reluctant to engage in <unk> as a means of boosting sales volume<|endoftext|>with the passing of the <unk> days of swelling industry sales however the <unk>  \n",
       "7                                                                                                               vans for delivery so <unk> can be on the road by N<|endoftext|>no customer is present at the morning package sort but the process is nevertheless critical to customer satisfaction<|endoftext|>we 're committed to deliver the customer 's package by a stated time usually N notes glenn <unk> a federal express <unk> who led the <unk> team<|endoftext|>the sooner our vans hit the road each morning the easier it is for us to fulfill that obligation<|endoftext|>following a <unk> formula used by teams throughout federal express members of the <unk> team monitored their morning routine carefully noting where and when the work group 's resources were used effectively  \n",
       "8                                                                                                        has consistently been one of the most aggressive firms in merchant banking and that a very significant portion of the firm 's profit in recent years has come from merchant <unk> business<|endoftext|>moody 's believes that the uncertain environment for merchant banking could put pressure on cs first boston 's performance the rating concern said citing continued problems from the firm 's exposures to various <unk> firms and to ohio <unk><|endoftext|>these two exposures alone represent a very substantial portion of cs first boston 's equity moody 's said<|endoftext|>total merchant banking exposures are in excess of the firm 's equity<|endoftext|>quotron systems inc  \n",
       "9                                                                                         obligation bonds came under selling pressure<|endoftext|>traders said a steady stream of bonds was put up for sale yesterday pushing yields for longer maturities up N percentage point<|endoftext|>traders said investors were reacting to recent negative news on the city 's finances and are nervous ahead of the nov. N election<|endoftext|>washington d.c. topped the competitive slate yesterday with a sale of $ N million of general obligation tax revenue anticipation notes<|endoftext|>in late trading new jersey turnpike authority 's N N issue of N was off N point at N bid<|endoftext|>the yield was N N up N percentage point<|endoftext|>mortgage-backed securities<|endoftext|>mortgage  "
      ]
     },
     "execution_count": 58,
     "metadata": {},
     "output_type": "execute_result"
    }
   ],
   "source": [
    "def load_samples(ds, tok, n=10):\n",
    "    it = iter(ds)\n",
    "    rows = []\n",
    "    for i in range(n):\n",
    "        row = {}\n",
    "        row['ids'] = [id for id in next(it).cpu().numpy()]\n",
    "        row['text'] = tok.decode(row['ids'])\n",
    "        rows.append(row)\n",
    "    return pd.DataFrame(rows)\n",
    "\n",
    "load_samples(ds, tok)"
   ]
  },
  {
   "cell_type": "code",
   "execution_count": null,
   "id": "f14ed984",
   "metadata": {},
   "outputs": [],
   "source": []
  }
 ],
 "metadata": {
  "kernelspec": {
   "display_name": "Python 3 (ipykernel)",
   "language": "python",
   "name": "python3"
  },
  "language_info": {
   "codemirror_mode": {
    "name": "ipython",
    "version": 3
   },
   "file_extension": ".py",
   "mimetype": "text/x-python",
   "name": "python",
   "nbconvert_exporter": "python",
   "pygments_lexer": "ipython3",
   "version": "3.8.12"
  }
 },
 "nbformat": 4,
 "nbformat_minor": 5
}
