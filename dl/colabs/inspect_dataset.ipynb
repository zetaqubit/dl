{
 "cells": [
  {
   "cell_type": "code",
   "execution_count": 1,
   "id": "7c99c112",
   "metadata": {},
   "outputs": [],
   "source": [
    "import os\n",
    "os.chdir('/home/z/code/zetaqubit/dl')"
   ]
  },
  {
   "cell_type": "code",
   "execution_count": 2,
   "id": "7cf7feeb",
   "metadata": {},
   "outputs": [
    {
     "name": "stdout",
     "output_type": "stream",
     "text": [
      "/home/z/code/zetaqubit/dl\r\n"
     ]
    }
   ],
   "source": [
    "!pwd"
   ]
  },
  {
   "cell_type": "code",
   "execution_count": 3,
   "id": "d5327652",
   "metadata": {},
   "outputs": [],
   "source": [
    "import pandas as pd\n",
    "import numpy as np\n",
    "pd.set_option ('display.max_colwidth', None)"
   ]
  },
  {
   "cell_type": "code",
   "execution_count": 4,
   "id": "a0399e24",
   "metadata": {},
   "outputs": [],
   "source": [
    "from dl.colabs import colab_utils as cu"
   ]
  },
  {
   "cell_type": "code",
   "execution_count": 5,
   "id": "8edf5e75",
   "metadata": {},
   "outputs": [
    {
     "name": "stdout",
     "output_type": "stream",
     "text": [
      "The autoreload extension is already loaded. To reload it, use:\n",
      "  %reload_ext autoreload\n",
      "The autoreload extension is already loaded. To reload it, use:\n",
      "  %reload_ext autoreload\n"
     ]
    },
    {
     "data": {
      "text/plain": [
       "<module 'dl.colabs.colab_utils' from '/home/z/code/zetaqubit/dl/dl/colabs/colab_utils.py'>"
      ]
     },
     "execution_count": 5,
     "metadata": {},
     "output_type": "execute_result"
    }
   ],
   "source": [
    "cu.autoreload()\n",
    "cu.reload(cu)"
   ]
  },
  {
   "cell_type": "code",
   "execution_count": 6,
   "id": "1b0652ef",
   "metadata": {},
   "outputs": [],
   "source": [
    "cu.clear()"
   ]
  },
  {
   "cell_type": "code",
   "execution_count": 26,
   "id": "704972e3",
   "metadata": {},
   "outputs": [],
   "source": [
    "import gin\n",
    "from dl.data import tokenizers\n",
    "\n",
    "tok_type = 'gpt2'\n",
    "max_seq_len = 128\n",
    "tok = tokenizers.create(tok_type, max_seq_len=None)"
   ]
  },
  {
   "cell_type": "code",
   "execution_count": 27,
   "id": "04c3d33b",
   "metadata": {},
   "outputs": [],
   "source": [
    "from dl.data import dataset\n",
    "\n",
    "ds_name = 'openwebtext'\n",
    "ds = dataset.MemoryMappedDataset(ds_name, f'{tok_type}.train', max_seq_len+1)"
   ]
  },
  {
   "cell_type": "code",
   "execution_count": 28,
   "id": "94b6b82f",
   "metadata": {},
   "outputs": [
    {
     "data": {
      "text/plain": [
       "tensor([  257,  1588,  2962,   319,   262,  3783,   286,  6958,    13,  1375,\n",
       "          635, 10408,  6844,    11, 41638,  9036,    12,  1886, 16800,   290,\n",
       "        38914,   851,   407,  6646,   287,   326,  1502,    13, 50256, 31042,\n",
       "         7430,   338,  3248, 16902,   357, 31160, 26006,   737,  5555,  6634,\n",
       "          286, 18193,  6343,    14, 15307,  7442,    13,   198,   198,  2949,\n",
       "         2300,   644,  2687,  1244,  1560,   345,    11,  2877,   534,  1204,\n",
       "          355,   257, 17458,   549,   385,   318,   645, 47327,  2513,   287,\n",
       "          262,  3952,    11,   290,  9164,  7430,   447,   247,    82,  3248,\n",
       "        16902,  4206,   326,   691,  1165,   880,    13,  1081,   530,   286,\n",
       "          262,   749,  3665,  1866,   286,   257, 22239,  4693,  1900,   355,\n",
       "          383,   376,  3609,    11,   673,   468,   587,   564,   250,    71,\n",
       "         6302,   447,   251,   416,   383,  4401,   376,  3609,   355,   880,\n",
       "          355,   383,  3801,   376,  3609,   284,  2298,   257,  1735],\n",
       "       device='cuda:0')"
      ]
     },
     "execution_count": 28,
     "metadata": {},
     "output_type": "execute_result"
    }
   ],
   "source": [
    "ids = next(iter(ds))\n",
    "ids"
   ]
  },
  {
   "cell_type": "code",
   "execution_count": null,
   "id": "e7be8fee",
   "metadata": {},
   "outputs": [],
   "source": [
    "df_meta = pd.read_csv()"
   ]
  },
  {
   "cell_type": "code",
   "execution_count": 29,
   "id": "317ae5e0",
   "metadata": {},
   "outputs": [
    {
     "data": {
      "text/html": [
       "<div>\n",
       "<style scoped>\n",
       "    .dataframe tbody tr th:only-of-type {\n",
       "        vertical-align: middle;\n",
       "    }\n",
       "\n",
       "    .dataframe tbody tr th {\n",
       "        vertical-align: top;\n",
       "    }\n",
       "\n",
       "    .dataframe thead th {\n",
       "        text-align: right;\n",
       "    }\n",
       "</style>\n",
       "<table border=\"1\" class=\"dataframe\">\n",
       "  <thead>\n",
       "    <tr style=\"text-align: right;\">\n",
       "      <th></th>\n",
       "      <th>ids</th>\n",
       "      <th>text</th>\n",
       "    </tr>\n",
       "  </thead>\n",
       "  <tbody>\n",
       "    <tr>\n",
       "      <th>0</th>\n",
       "      <td>[262, 352, 13, 24, 2997, 9909, 393, 19066, 1366, 4406, 1625, 422, 262, 2534, 4387, 1366, 31523, 11, 1123, 7411, 517, 621, 530, 1510, 19066, 4406, 13, 3226, 262, 860, 1507, 1366, 31523, 6264, 8688, 517, 621, 5323, 357, 3270, 1411, 286, 477, 31523, 8, 550, 281, 6439, 393, 48422, 276, 1271, 286, 19066, 1366, 4406, 13, 198, 198, 818, 3794, 11, 262, 17412, 30545, 1368, 319, 1168, 296, 5549, 21294, 1596, 1510, 4406, 18309, 1716, 262, 11695, 4094, 1366, 13694, 287, 717, 2063, 286, 2177, 13, 4418, 11, 262, 12948, 3434, 319, 47727, 1366, 373, 1194, 2383, 1366, 13694, ...]</td>\n",
       "      <td>the 1.9 billion stolen or compromised data records came from the 22 largest data breaches, each involving more than one million compromised records. Of the 918 data breaches recorded worldwide more than 500 (59 percent of all breaches) had an unknown or unaccounted number of compromised data records.\\n\\nIn India, the malicious outsider attack on Zomato exposing 17 million records globally become the sixth biggest data breach in first half of 2017. Also, the continuous attacks on Aadhaar data was another significant data breach that put focus on the financial access and identity theft breaches occurring in India.\\n\\n“IT consultant CGI and Oxford Economics recently issued a study</td>\n",
       "    </tr>\n",
       "    <tr>\n",
       "      <th>1</th>\n",
       "      <td>[321, 3391, 11, 257, 21120, 379, 262, 1957, 16918, 3650, 290, 1281, 2607, 287, 262, 10016, 8891, 1616, 286, 7844, 8691, 11, 810, 1770, 13, 943, 69, 9038, 5615, 1566, 938, 614, 13, 198, 198, 11605, 4477, 2174, 15422, 198, 198, 36091, 2963, 1528, 706, 597, 2485, 17098, 27396, 11, 1957, 1644, 389, 17600, 416, 262, 28797, 338, 5398, 32389, 6118, 11, 379, 543, 966, 3790, 389, 4385, 284, 1061, 510, 290, 766, 644, 262, 1048, 318, 1804, 351, 262, 4282, 13, 198, 198, 1537, 287, 867, 25281, 1644, 836, 470, 423, 262, 4133, 284, 10643, 319, 262, 8215, 286, ...]</td>\n",
       "      <td>amondon, a clerk at the local grocery store and post office in the rural hamlet of Ashmont, where Mr. Arfmann lived until last year.\\n\\nStory continues below advertisement\\n\\nNinety days after any gun licence expires, local police are notified by the RCMP's Canadian Firearms Program, at which point officers are supposed to follow up and see what the person is doing with the weapon.\\n\\nBut in many jurisdictions police don't have the resources to knock on the doors of those whose licences expire each year, said Paul Ballard, who retired from a 35-year career with the Vancouver Police Department to become a master firearms</td>\n",
       "    </tr>\n",
       "    <tr>\n",
       "      <th>2</th>\n",
       "      <td>[318, 7744, 28010, 13, 564, 250, 2782, 380, 2271, 447, 247, 82, 41460, 447, 251, 318, 257, 14802, 11648, 287, 543, 262, 3437, 3578, 514, 284, 4973, 607, 2994, 286, 24211, 11, 290, 981, 262, 7111, 1276, 307, 12132, 11, 663, 2179, 675, 408, 481, 15772, 284, 1688, 10876, 5197, 355, 880, 355, 17939, 16976, 45753, 2650, 13, 198, 198, 2782, 380, 2271, 11, 1900, 287, 262, 1641, 355, 609, 1092, 11, 373, 31770, 89, 1073, 447, 247, 82, 21580, 11, 607, 38074, 494, 337, 480, 508, 561, 16085, 656, 17456, 422, 4505, 9717, 268, 351, 13201, 290, 25462, 281, ...]</td>\n",
       "      <td>is deeply chilling. “Adriana’s Pact” is a brave documentary in which the director allows us to witness her loss of innocence, and while the exposure must be painful, its rawness will translate to major festival coverage as well as probable specialized boutique release.\\n\\nAdriana, known in the family as Chany, was Orozco’s idol, her Auntie Mame who would sweep into Chile from Australia laden with gifts and trailing an air of glamour. Then during a visit in 2006, Rivas was arrested and charged with working for DINA, the much-feared</td>\n",
       "    </tr>\n",
       "    <tr>\n",
       "      <th>3</th>\n",
       "      <td>[7007, 11, 290, 11073, 625, 1315, 2997, 4067, 2173, 3693, 6659, 60, 2735, 6031, 18683, 318, 2615, 257, 6279, 3859, 351, 19386, 14571, 1143, 1366, 422, 15736, 319, 5672, 11, 9037, 1321, 290, 1103, 12, 2435, 2995, 422, 9725, 290, 6483, 351, 6031, 18683, 338, 2298, 12, 929, 290, 4268, 12, 2364, 1366, 11, 13229, 290, 3283, 5339, 13, 2080, 428, 3859, 11, 9358, 5127, 290, 3512, 460, 307, 12974, 18306, 11, 290, 28014, 460, 307, 5566, 10255, 26963, 3693, 6469, 60, 198, 198, 25610, 9358, 25, 6031, 18683, 468, 5611, 4451, 4979, 7588, 11, 4451, 9358, 3159, 11, 48287, ...]</td>\n",
       "      <td>requests, and produces over 15 billion location points.[81] Now DiDi is building a cloud platform with integrate anonymized data from sensors on vehicles, static information and real-time events from roads and streets with DiDi's pick-up and drop-off data, trips and carry capacity. With this platform, transportation supply and demand can be balanced efficiently, and congestion can be significantly mitigated.[82]\\n\\nSmart transportation: DiDi has launched smart traffic lights, smart transportation screen, reversible lane, thermodynamic diagrams of designated drivers, smart bus, smart traffic report and other programs in China.[83] DiDi now helps manage over</td>\n",
       "    </tr>\n",
       "    <tr>\n",
       "      <th>4</th>\n",
       "      <td>[290, 2716, 284, 262, 1171, 262, 4225, 3803, 9220, 18980, 11, 543, 561, 2582, 1716, 281, 1703, 13827, 3210, 3693, 1495, 5974, 2231, 3819, 1703, 13827, 4056, 2716, 416, 19814, 3017, 21907, 7849, 20395, 5345, 11, 24470, 7849, 58, 2075, 60, 290, 21907, 23467, 23535, 3693, 1983, 60, 2773, 286, 606, 11, 749, 14660, 21907, 23467, 11, 547, 49702, 284, 584, 9554, 13, 1114, 48087, 19814, 2716, 257, 2042, 1222, 2330, 11034, 2891, 1444, 11733, 14, 16, 17414, 2078, 60, 290, 257, 2168, 286, 23467, 8714, 1444, 11733, 14, 23, 290, 11733, 14, 2624, 357, 19891, 42669, 1959, 60, 198, ...]</td>\n",
       "      <td>and released to the public the Interchange File Format, which would soon become an Amiga standard.[25]:45 Other Amiga programs released by EA included Deluxe Music Construction Set, Instant Music[26] and Deluxe Paint Animation.[27] Some of them, most notably Deluxe Paint, were ported to other platforms. For Macintosh EA released a black &amp; white animation tool called Studio/1,[28] and a series of Paint titles called Studio/8 and Studio/32 (1990).[29]\\n\\nRelationships between Electronic Arts and their external developers often became difficult when the latter missed deadlines or diverged from the former's creative directions. In</td>\n",
       "    </tr>\n",
       "    <tr>\n",
       "      <th>5</th>\n",
       "      <td>[787, 262, 16638, 20691, 287, 16325, 21678, 717, 11, 5291, 262, 3484, 286, 4330, 3298, 9917, 284, 257, 5288, 13, 554, 1109, 11, 262, 2855, 635, 4909, 6647, 319, 2279, 422, 1657, 28287, 5423, 284, 262, 25274, 319, 3024, 12202, 82, 11, 290, 340, 481, 27179, 1758, 2253, 338, 3773, 287, 9264, 286, 2842, 326, 867, 836, 470, 6537, 13, 198, 198, 4342, 318, 655, 530, 25, 383, 2855, 561, 1577, 262, 2717, 1230, 1176, 625, 1957, 2615, 12416, 13, 632, 4433, 326, 416, 2321, 12416, 1276, 2421, 326, 649, 6832, 307, 1542, 1411, 517, 6942, 621, 484, 561, 423, ...]</td>\n",
       "      <td>make the easiest reductions in greenhouse gases first, keeping the costs of fighting global warming to a minimum. In fact, the bill also contains regulations on everything from light bulb standards to the specs on hot tubs, and it will reshape America's economy in dozens of ways that many don't realize.\\n\\nHere is just one: The bill would give the federal government power over local building codes. It requires that by 2012 codes must require that new buildings be 30 percent more efficient than they would have been under current regulations. By 2016, that figure rises to 50 percent, with increases scheduled for years after that. With those targets in mind,</td>\n",
       "    </tr>\n",
       "    <tr>\n",
       "      <th>6</th>\n",
       "      <td>[40, 716, 1475, 13274, 11, 262, 1475, 13274, 326, 2152, 2788, 407, 3613, 832, 663, 898, 1475, 13274, 11, 326, 318, 3675, 262, 1475, 13274, 286, 1475, 396, 3007, 11, 290, 19459, 9211, 621, 262, 1400, 12, 51, 722, 12, 27660, 287, 262, 6379, 286, 1400, 12, 51, 722, 13, 198, 198, 15269, 10673, 3050, 3899, 40925, 5489, 1648, 259, 198, 198, 1891, 284, 8779, 1268, 50256, 3347, 635, 4367, 326, 1201, 262, 640, 286, 262, 4473, 11, 645, 649, 2370, 550, 9349, 284, 1104, 262, 12580, 11, 12988, 262, 3092, 286, 2613, 3969, 393, 1055, 1435, 4856, 11, 393, ...]</td>\n",
       "      <td>I am Existence, the Existence that existeth not save through its own Existence, that is beyond the Existence of Existences, and rooted deeper than the No-Thing-Tree in the Land of No-Thing.\\n\\nCopyright © 2010 Michael Osiris Snuffin\\n\\nback to MAIN&lt;|endoftext|&gt;She also noted that since the time of the trial, no new evidence had emerged to support the prosecution, citing the lack of ballistics or serology testing, or a fingerprint match to identify Mr. Hargrave. “The scant evidence that convicted the defendant makes the newfound wrongdoing of Detective Scarcella</td>\n",
       "    </tr>\n",
       "    <tr>\n",
       "      <th>7</th>\n",
       "      <td>[1450, 284, 1234, 572, 762, 6820, 532, 329, 257, 4506, 2278, 13, 5856, 428, 640, 262, 762, 6519, 82, 561, 307, 1498, 284, 15398, 578, 351, 511, 511, 6151, 530, 329, 379, 1551, 257, 3614, 640, 13, 383, 14139, 286, 20175, 42279, 3281, 68, 78, 290, 402, 5948, 261, 84, 4145, 2627, 257, 23094, 329, 777, 762, 6519, 82, 290, 511, 6151, 530, 379, 1363, 13, 198, 198, 7571, 3224, 8787, 389, 5545, 287, 607, 5726, 11, 1111, 351, 11811, 12085, 13, 383, 717, 318, 287, 4637, 351, 705, 75, 505, 306, 4903, 2771, 17150, 6, 357, 168, 247, 116, ...]</td>\n",
       "      <td>men to put off conscription - for a brief period. During this time the conscripts would be able to reunite with their their loved one for at least a limited time. The separation of lovers Jingnyeo and Gyeonu thus became a metaphor for these conscripts and their loved one at home.\\n\\nTwo additional connections are presented in her entry, both with contemporary significance. The first is in connection with 'lonely geese fathers' (외기러기 in Korean) and how they are only rarely able to see their families due to working in another city</td>\n",
       "    </tr>\n",
       "    <tr>\n",
       "      <th>8</th>\n",
       "      <td>[981, 4955, 23933, 2272, 329, 11823, 290, 4683, 2706, 284, 18101, 351, 262, 1551, 2033, 286, 3957, 24985, 11, 447, 251, 16476, 32108, 8877, 11, 6123, 290, 9119, 286, 3433, 34, 658, 13, 564, 250, 3152, 674, 11754, 290, 5163, 6958, 11, 356, 423, 27009, 262, 7172, 1429, 290, 4615, 262, 13357, 329, 20729, 4132, 9143, 13, 447, 251, 198, 198, 1532, 534, 4009, 12802, 284, 19386, 262, 3433, 34, 658, 3859, 11, 3187, 2010, 66, 658, 13, 42189, 284, 651, 262, 4875, 11812, 1429, 2067, 13, 13248, 262, 1051, 12, 929, 1296, 319, 262, 564, 250, 19197, 434, 29916, ...]</td>\n",
       "      <td>while providing ample space for emerging and existing companies to evolve with the least amount of growing pains,” commented Clayton Moore, CEO and founder of NetCents. “With our banking and exchange relationships, we have simplified the consumer process and removed the complexity for merchant integrations.”\\n\\nIf your organization wishes to integrate the NetCents platform, visit netcents.biz to get the digital integration process started. Complete the sign-up form on the “Payment Gateway” page located under the “Products” drop-down menu.\\n\\nAbout NetCents\\n\\nNetCents is an</td>\n",
       "    </tr>\n",
       "    <tr>\n",
       "      <th>9</th>\n",
       "      <td>[14268, 13, 4889, 340, 257, 15834, 286, 262, 3597, 1204, 13, 314, 1107, 4001, 340, 284, 307, 12238, 13, 198, 198, 43964, 510, 198, 198, 5956, 1227, 616, 17415, 531, 11, 9380, 11, 326, 314, 373, 257, 2495, 7650, 5141, 13, 1649, 534, 3397, 910, 345, 447, 247, 260, 7650, 11, 345, 760, 340, 447, 247, 82, 2081, 13, 314, 836, 447, 247, 83, 5000, 760, 783, 1521, 314, 373, 7650, 422, 9337, 838, 784, 1478, 393, 523, 290, 314, 991, 836, 447, 247, 83, 760, 1521, 314, 7690, 257, 1256, 286, 1729, 12, 45124, 14301, 11, 588, 24961, 2280, ...]</td>\n",
       "      <td>essay. Call it a hazard of the writing life. I really meant it to be shorter.\\n\\nGrowing up\\n\\nLast month my Dad said, correctly, that I was a pretty weird kid. When your parents say you’re weird, you know it’s true. I don’t entirely know now why I was weird from ages 10 – 14 or so and I still don’t know why I chose a lot of non-functional behaviors, like obsessively playing video games and Magic Cards. I had an exacting, precise, nerdish disposition, but that alone doesn’t explain why I</td>\n",
       "    </tr>\n",
       "  </tbody>\n",
       "</table>\n",
       "</div>"
      ],
      "text/plain": [
       "                                                                                                                                                                                                                                                                                                                                                                                                                                                                                                                                                                                                 ids  \\\n",
       "0          [262, 352, 13, 24, 2997, 9909, 393, 19066, 1366, 4406, 1625, 422, 262, 2534, 4387, 1366, 31523, 11, 1123, 7411, 517, 621, 530, 1510, 19066, 4406, 13, 3226, 262, 860, 1507, 1366, 31523, 6264, 8688, 517, 621, 5323, 357, 3270, 1411, 286, 477, 31523, 8, 550, 281, 6439, 393, 48422, 276, 1271, 286, 19066, 1366, 4406, 13, 198, 198, 818, 3794, 11, 262, 17412, 30545, 1368, 319, 1168, 296, 5549, 21294, 1596, 1510, 4406, 18309, 1716, 262, 11695, 4094, 1366, 13694, 287, 717, 2063, 286, 2177, 13, 4418, 11, 262, 12948, 3434, 319, 47727, 1366, 373, 1194, 2383, 1366, 13694, ...]   \n",
       "1                        [321, 3391, 11, 257, 21120, 379, 262, 1957, 16918, 3650, 290, 1281, 2607, 287, 262, 10016, 8891, 1616, 286, 7844, 8691, 11, 810, 1770, 13, 943, 69, 9038, 5615, 1566, 938, 614, 13, 198, 198, 11605, 4477, 2174, 15422, 198, 198, 36091, 2963, 1528, 706, 597, 2485, 17098, 27396, 11, 1957, 1644, 389, 17600, 416, 262, 28797, 338, 5398, 32389, 6118, 11, 379, 543, 966, 3790, 389, 4385, 284, 1061, 510, 290, 766, 644, 262, 1048, 318, 1804, 351, 262, 4282, 13, 198, 198, 1537, 287, 867, 25281, 1644, 836, 470, 423, 262, 4133, 284, 10643, 319, 262, 8215, 286, ...]   \n",
       "2                           [318, 7744, 28010, 13, 564, 250, 2782, 380, 2271, 447, 247, 82, 41460, 447, 251, 318, 257, 14802, 11648, 287, 543, 262, 3437, 3578, 514, 284, 4973, 607, 2994, 286, 24211, 11, 290, 981, 262, 7111, 1276, 307, 12132, 11, 663, 2179, 675, 408, 481, 15772, 284, 1688, 10876, 5197, 355, 880, 355, 17939, 16976, 45753, 2650, 13, 198, 198, 2782, 380, 2271, 11, 1900, 287, 262, 1641, 355, 609, 1092, 11, 373, 31770, 89, 1073, 447, 247, 82, 21580, 11, 607, 38074, 494, 337, 480, 508, 561, 16085, 656, 17456, 422, 4505, 9717, 268, 351, 13201, 290, 25462, 281, ...]   \n",
       "3            [7007, 11, 290, 11073, 625, 1315, 2997, 4067, 2173, 3693, 6659, 60, 2735, 6031, 18683, 318, 2615, 257, 6279, 3859, 351, 19386, 14571, 1143, 1366, 422, 15736, 319, 5672, 11, 9037, 1321, 290, 1103, 12, 2435, 2995, 422, 9725, 290, 6483, 351, 6031, 18683, 338, 2298, 12, 929, 290, 4268, 12, 2364, 1366, 11, 13229, 290, 3283, 5339, 13, 2080, 428, 3859, 11, 9358, 5127, 290, 3512, 460, 307, 12974, 18306, 11, 290, 28014, 460, 307, 5566, 10255, 26963, 3693, 6469, 60, 198, 198, 25610, 9358, 25, 6031, 18683, 468, 5611, 4451, 4979, 7588, 11, 4451, 9358, 3159, 11, 48287, ...]   \n",
       "4  [290, 2716, 284, 262, 1171, 262, 4225, 3803, 9220, 18980, 11, 543, 561, 2582, 1716, 281, 1703, 13827, 3210, 3693, 1495, 5974, 2231, 3819, 1703, 13827, 4056, 2716, 416, 19814, 3017, 21907, 7849, 20395, 5345, 11, 24470, 7849, 58, 2075, 60, 290, 21907, 23467, 23535, 3693, 1983, 60, 2773, 286, 606, 11, 749, 14660, 21907, 23467, 11, 547, 49702, 284, 584, 9554, 13, 1114, 48087, 19814, 2716, 257, 2042, 1222, 2330, 11034, 2891, 1444, 11733, 14, 16, 17414, 2078, 60, 290, 257, 2168, 286, 23467, 8714, 1444, 11733, 14, 23, 290, 11733, 14, 2624, 357, 19891, 42669, 1959, 60, 198, ...]   \n",
       "5                          [787, 262, 16638, 20691, 287, 16325, 21678, 717, 11, 5291, 262, 3484, 286, 4330, 3298, 9917, 284, 257, 5288, 13, 554, 1109, 11, 262, 2855, 635, 4909, 6647, 319, 2279, 422, 1657, 28287, 5423, 284, 262, 25274, 319, 3024, 12202, 82, 11, 290, 340, 481, 27179, 1758, 2253, 338, 3773, 287, 9264, 286, 2842, 326, 867, 836, 470, 6537, 13, 198, 198, 4342, 318, 655, 530, 25, 383, 2855, 561, 1577, 262, 2717, 1230, 1176, 625, 1957, 2615, 12416, 13, 632, 4433, 326, 416, 2321, 12416, 1276, 2421, 326, 649, 6832, 307, 1542, 1411, 517, 6942, 621, 484, 561, 423, ...]   \n",
       "6                             [40, 716, 1475, 13274, 11, 262, 1475, 13274, 326, 2152, 2788, 407, 3613, 832, 663, 898, 1475, 13274, 11, 326, 318, 3675, 262, 1475, 13274, 286, 1475, 396, 3007, 11, 290, 19459, 9211, 621, 262, 1400, 12, 51, 722, 12, 27660, 287, 262, 6379, 286, 1400, 12, 51, 722, 13, 198, 198, 15269, 10673, 3050, 3899, 40925, 5489, 1648, 259, 198, 198, 1891, 284, 8779, 1268, 50256, 3347, 635, 4367, 326, 1201, 262, 640, 286, 262, 4473, 11, 645, 649, 2370, 550, 9349, 284, 1104, 262, 12580, 11, 12988, 262, 3092, 286, 2613, 3969, 393, 1055, 1435, 4856, 11, 393, ...]   \n",
       "7                                            [1450, 284, 1234, 572, 762, 6820, 532, 329, 257, 4506, 2278, 13, 5856, 428, 640, 262, 762, 6519, 82, 561, 307, 1498, 284, 15398, 578, 351, 511, 511, 6151, 530, 329, 379, 1551, 257, 3614, 640, 13, 383, 14139, 286, 20175, 42279, 3281, 68, 78, 290, 402, 5948, 261, 84, 4145, 2627, 257, 23094, 329, 777, 762, 6519, 82, 290, 511, 6151, 530, 379, 1363, 13, 198, 198, 7571, 3224, 8787, 389, 5545, 287, 607, 5726, 11, 1111, 351, 11811, 12085, 13, 383, 717, 318, 287, 4637, 351, 705, 75, 505, 306, 4903, 2771, 17150, 6, 357, 168, 247, 116, ...]   \n",
       "8                      [981, 4955, 23933, 2272, 329, 11823, 290, 4683, 2706, 284, 18101, 351, 262, 1551, 2033, 286, 3957, 24985, 11, 447, 251, 16476, 32108, 8877, 11, 6123, 290, 9119, 286, 3433, 34, 658, 13, 564, 250, 3152, 674, 11754, 290, 5163, 6958, 11, 356, 423, 27009, 262, 7172, 1429, 290, 4615, 262, 13357, 329, 20729, 4132, 9143, 13, 447, 251, 198, 198, 1532, 534, 4009, 12802, 284, 19386, 262, 3433, 34, 658, 3859, 11, 3187, 2010, 66, 658, 13, 42189, 284, 651, 262, 4875, 11812, 1429, 2067, 13, 13248, 262, 1051, 12, 929, 1296, 319, 262, 564, 250, 19197, 434, 29916, ...]   \n",
       "9                                              [14268, 13, 4889, 340, 257, 15834, 286, 262, 3597, 1204, 13, 314, 1107, 4001, 340, 284, 307, 12238, 13, 198, 198, 43964, 510, 198, 198, 5956, 1227, 616, 17415, 531, 11, 9380, 11, 326, 314, 373, 257, 2495, 7650, 5141, 13, 1649, 534, 3397, 910, 345, 447, 247, 260, 7650, 11, 345, 760, 340, 447, 247, 82, 2081, 13, 314, 836, 447, 247, 83, 5000, 760, 783, 1521, 314, 373, 7650, 422, 9337, 838, 784, 1478, 393, 523, 290, 314, 991, 836, 447, 247, 83, 760, 1521, 314, 7690, 257, 1256, 286, 1729, 12, 45124, 14301, 11, 588, 24961, 2280, ...]   \n",
       "\n",
       "                                                                                                                                                                                                                                                                                                                                                                                                                                                                                                                                                                                                                                                                                                              text  \n",
       "0   the 1.9 billion stolen or compromised data records came from the 22 largest data breaches, each involving more than one million compromised records. Of the 918 data breaches recorded worldwide more than 500 (59 percent of all breaches) had an unknown or unaccounted number of compromised data records.\\n\\nIn India, the malicious outsider attack on Zomato exposing 17 million records globally become the sixth biggest data breach in first half of 2017. Also, the continuous attacks on Aadhaar data was another significant data breach that put focus on the financial access and identity theft breaches occurring in India.\\n\\n“IT consultant CGI and Oxford Economics recently issued a study  \n",
       "1                                                              amondon, a clerk at the local grocery store and post office in the rural hamlet of Ashmont, where Mr. Arfmann lived until last year.\\n\\nStory continues below advertisement\\n\\nNinety days after any gun licence expires, local police are notified by the RCMP's Canadian Firearms Program, at which point officers are supposed to follow up and see what the person is doing with the weapon.\\n\\nBut in many jurisdictions police don't have the resources to knock on the doors of those whose licences expire each year, said Paul Ballard, who retired from a 35-year career with the Vancouver Police Department to become a master firearms  \n",
       "2                                                                                                                                                         is deeply chilling. “Adriana’s Pact” is a brave documentary in which the director allows us to witness her loss of innocence, and while the exposure must be painful, its rawness will translate to major festival coverage as well as probable specialized boutique release.\\n\\nAdriana, known in the family as Chany, was Orozco’s idol, her Auntie Mame who would sweep into Chile from Australia laden with gifts and trailing an air of glamour. Then during a visit in 2006, Rivas was arrested and charged with working for DINA, the much-feared  \n",
       "3                         requests, and produces over 15 billion location points.[81] Now DiDi is building a cloud platform with integrate anonymized data from sensors on vehicles, static information and real-time events from roads and streets with DiDi's pick-up and drop-off data, trips and carry capacity. With this platform, transportation supply and demand can be balanced efficiently, and congestion can be significantly mitigated.[82]\\n\\nSmart transportation: DiDi has launched smart traffic lights, smart transportation screen, reversible lane, thermodynamic diagrams of designated drivers, smart bus, smart traffic report and other programs in China.[83] DiDi now helps manage over  \n",
       "4                                                       and released to the public the Interchange File Format, which would soon become an Amiga standard.[25]:45 Other Amiga programs released by EA included Deluxe Music Construction Set, Instant Music[26] and Deluxe Paint Animation.[27] Some of them, most notably Deluxe Paint, were ported to other platforms. For Macintosh EA released a black & white animation tool called Studio/1,[28] and a series of Paint titles called Studio/8 and Studio/32 (1990).[29]\\n\\nRelationships between Electronic Arts and their external developers often became difficult when the latter missed deadlines or diverged from the former's creative directions. In  \n",
       "5                          make the easiest reductions in greenhouse gases first, keeping the costs of fighting global warming to a minimum. In fact, the bill also contains regulations on everything from light bulb standards to the specs on hot tubs, and it will reshape America's economy in dozens of ways that many don't realize.\\n\\nHere is just one: The bill would give the federal government power over local building codes. It requires that by 2012 codes must require that new buildings be 30 percent more efficient than they would have been under current regulations. By 2016, that figure rises to 50 percent, with increases scheduled for years after that. With those targets in mind,  \n",
       "6                                                                                                                          I am Existence, the Existence that existeth not save through its own Existence, that is beyond the Existence of Existences, and rooted deeper than the No-Thing-Tree in the Land of No-Thing.\\n\\nCopyright © 2010 Michael Osiris Snuffin\\n\\nback to MAIN<|endoftext|>She also noted that since the time of the trial, no new evidence had emerged to support the prosecution, citing the lack of ballistics or serology testing, or a fingerprint match to identify Mr. Hargrave. “The scant evidence that convicted the defendant makes the newfound wrongdoing of Detective Scarcella  \n",
       "7                                                                                                                                                           men to put off conscription - for a brief period. During this time the conscripts would be able to reunite with their their loved one for at least a limited time. The separation of lovers Jingnyeo and Gyeonu thus became a metaphor for these conscripts and their loved one at home.\\n\\nTwo additional connections are presented in her entry, both with contemporary significance. The first is in connection with 'lonely geese fathers' (외기러기 in Korean) and how they are only rarely able to see their families due to working in another city  \n",
       "8                                                                                                             while providing ample space for emerging and existing companies to evolve with the least amount of growing pains,” commented Clayton Moore, CEO and founder of NetCents. “With our banking and exchange relationships, we have simplified the consumer process and removed the complexity for merchant integrations.”\\n\\nIf your organization wishes to integrate the NetCents platform, visit netcents.biz to get the digital integration process started. Complete the sign-up form on the “Payment Gateway” page located under the “Products” drop-down menu.\\n\\nAbout NetCents\\n\\nNetCents is an  \n",
       "9                                                                                                                                                                                                     essay. Call it a hazard of the writing life. I really meant it to be shorter.\\n\\nGrowing up\\n\\nLast month my Dad said, correctly, that I was a pretty weird kid. When your parents say you’re weird, you know it’s true. I don’t entirely know now why I was weird from ages 10 – 14 or so and I still don’t know why I chose a lot of non-functional behaviors, like obsessively playing video games and Magic Cards. I had an exacting, precise, nerdish disposition, but that alone doesn’t explain why I  "
      ]
     },
     "execution_count": 29,
     "metadata": {},
     "output_type": "execute_result"
    }
   ],
   "source": [
    "def load_samples(ds, tok, n=10):\n",
    "    it = iter(ds)\n",
    "    rows = []\n",
    "    for i in range(n):\n",
    "        row = {}\n",
    "        row['ids'] = [id for id in next(it).cpu().numpy()]\n",
    "        row['text'] = tok.decode(row['ids'])\n",
    "        rows.append(row)\n",
    "    return pd.DataFrame(rows)\n",
    "\n",
    "load_samples(ds, tok)"
   ]
  },
  {
   "cell_type": "code",
   "execution_count": null,
   "id": "979b2ee7",
   "metadata": {},
   "outputs": [],
   "source": []
  }
 ],
 "metadata": {
  "kernelspec": {
   "display_name": "Python 3 (ipykernel)",
   "language": "python",
   "name": "python3"
  },
  "language_info": {
   "codemirror_mode": {
    "name": "ipython",
    "version": 3
   },
   "file_extension": ".py",
   "mimetype": "text/x-python",
   "name": "python",
   "nbconvert_exporter": "python",
   "pygments_lexer": "ipython3",
   "version": "3.8.12"
  }
 },
 "nbformat": 4,
 "nbformat_minor": 5
}
