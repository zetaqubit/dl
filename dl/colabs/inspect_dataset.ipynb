{
 "cells": [
  {
   "cell_type": "code",
   "execution_count": 1,
   "id": "7c99c112",
   "metadata": {},
   "outputs": [],
   "source": [
    "import os\n",
    "os.chdir('/home/z/code/zetaqubit/dl')"
   ]
  },
  {
   "cell_type": "code",
   "execution_count": 2,
   "id": "7cf7feeb",
   "metadata": {},
   "outputs": [
    {
     "name": "stdout",
     "output_type": "stream",
     "text": [
      "/home/z/code/zetaqubit/dl\r\n"
     ]
    }
   ],
   "source": [
    "!pwd"
   ]
  },
  {
   "cell_type": "code",
   "execution_count": 3,
   "id": "d5327652",
   "metadata": {},
   "outputs": [],
   "source": [
    "import pandas as pd\n",
    "import numpy as np\n",
    "pd.set_option ('display.max_colwidth', None)"
   ]
  },
  {
   "cell_type": "code",
   "execution_count": 4,
   "id": "a0399e24",
   "metadata": {},
   "outputs": [],
   "source": [
    "from dl.colabs import colab_utils as cu"
   ]
  },
  {
   "cell_type": "code",
   "execution_count": 5,
   "id": "8edf5e75",
   "metadata": {},
   "outputs": [
    {
     "name": "stdout",
     "output_type": "stream",
     "text": [
      "The autoreload extension is already loaded. To reload it, use:\n",
      "  %reload_ext autoreload\n",
      "The autoreload extension is already loaded. To reload it, use:\n",
      "  %reload_ext autoreload\n"
     ]
    },
    {
     "data": {
      "text/plain": [
       "<module 'dl.colabs.colab_utils' from '/home/z/code/zetaqubit/dl/dl/colabs/colab_utils.py'>"
      ]
     },
     "execution_count": 5,
     "metadata": {},
     "output_type": "execute_result"
    }
   ],
   "source": [
    "cu.autoreload()\n",
    "cu.reload(cu)"
   ]
  },
  {
   "cell_type": "code",
   "execution_count": 6,
   "id": "1b0652ef",
   "metadata": {},
   "outputs": [],
   "source": [
    "cu.clear()"
   ]
  },
  {
   "cell_type": "code",
   "execution_count": 7,
   "id": "704972e3",
   "metadata": {},
   "outputs": [
    {
     "name": "stderr",
     "output_type": "stream",
     "text": [
      "/home/z/tools/conda/envs/dl/lib/python3.8/site-packages/tqdm/auto.py:22: TqdmWarning: IProgress not found. Please update jupyter and ipywidgets. See https://ipywidgets.readthedocs.io/en/stable/user_install.html\n",
      "  from .autonotebook import tqdm as notebook_tqdm\n",
      "2023-03-15 23:52:46.075927: I tensorflow/core/platform/cpu_feature_guard.cc:193] This TensorFlow binary is optimized with oneAPI Deep Neural Network Library (oneDNN) to use the following CPU instructions in performance-critical operations:  AVX2 FMA\n",
      "To enable them in other operations, rebuild TensorFlow with the appropriate compiler flags.\n",
      "2023-03-15 23:52:46.689740: W tensorflow/compiler/xla/stream_executor/platform/default/dso_loader.cc:64] Could not load dynamic library 'libnvinfer.so.7'; dlerror: libnvinfer.so.7: cannot open shared object file: No such file or directory\n",
      "2023-03-15 23:52:46.689796: W tensorflow/compiler/xla/stream_executor/platform/default/dso_loader.cc:64] Could not load dynamic library 'libnvinfer_plugin.so.7'; dlerror: libnvinfer_plugin.so.7: cannot open shared object file: No such file or directory\n",
      "2023-03-15 23:52:46.689803: W tensorflow/compiler/tf2tensorrt/utils/py_utils.cc:38] TF-TRT Warning: Cannot dlopen some TensorRT libraries. If you would like to use Nvidia GPU with TensorRT, please make sure the missing libraries mentioned above are installed properly.\n"
     ]
    }
   ],
   "source": [
    "import gin\n",
    "from dl.data import tokenizers\n",
    "\n",
    "tok_type = 'char'\n",
    "max_seq_len = 128\n",
    "tok = tokenizers.create(tok_type, max_seq_len=None)"
   ]
  },
  {
   "cell_type": "code",
   "execution_count": 14,
   "id": "04c3d33b",
   "metadata": {},
   "outputs": [],
   "source": [
    "from dl.data import dataset\n",
    "\n",
    "ds_name = 'shakespeare'\n",
    "ds = dataset.MemoryMappedDataset(ds_name, f'{tok_type}.train', max_seq_len+1)"
   ]
  },
  {
   "cell_type": "code",
   "execution_count": 15,
   "id": "94b6b82f",
   "metadata": {},
   "outputs": [
    {
     "data": {
      "text/plain": [
       "tensor([101,  32,  73,  32, 119, 105, 108, 108,  32,  97, 115, 115, 117, 114,\n",
       "        101,  32, 104, 101, 114,  44,  10,  72,  97, 115, 116,  32,  99, 108,\n",
       "        101,  97, 110, 115, 101, 100,  32, 109, 121,  32,  98, 111, 115, 111,\n",
       "        109,  44,  32,  73,  32, 102, 114, 111, 109,  32, 116, 104, 101, 101,\n",
       "         32, 100, 101, 112,  97, 114, 116, 101, 100,  10,  83, 104, 111, 117,\n",
       "        108, 100,  32, 121, 101, 116,  32, 115,  97, 121,  32,  39,  83, 105,\n",
       "        114,  44,  32, 110, 111,  32, 103, 111, 105, 110, 103,  46,  39,  32,\n",
       "         86, 101, 114, 105, 108, 121,  44,  10,  77, 111, 114, 101,  32, 108,\n",
       "        105, 103, 104, 116,  44,  32, 121, 111, 117,  32, 107, 110,  97, 118,\n",
       "        101, 115,  59], device='cuda:0')"
      ]
     },
     "execution_count": 15,
     "metadata": {},
     "output_type": "execute_result"
    }
   ],
   "source": [
    "ids = next(iter(ds))\n",
    "ids"
   ]
  },
  {
   "cell_type": "code",
   "execution_count": null,
   "id": "e7be8fee",
   "metadata": {},
   "outputs": [],
   "source": []
  },
  {
   "cell_type": "code",
   "execution_count": 16,
   "id": "317ae5e0",
   "metadata": {},
   "outputs": [
    {
     "data": {
      "text/html": [
       "<div>\n",
       "<style scoped>\n",
       "    .dataframe tbody tr th:only-of-type {\n",
       "        vertical-align: middle;\n",
       "    }\n",
       "\n",
       "    .dataframe tbody tr th {\n",
       "        vertical-align: top;\n",
       "    }\n",
       "\n",
       "    .dataframe thead th {\n",
       "        text-align: right;\n",
       "    }\n",
       "</style>\n",
       "<table border=\"1\" class=\"dataframe\">\n",
       "  <thead>\n",
       "    <tr style=\"text-align: right;\">\n",
       "      <th></th>\n",
       "      <th>ids</th>\n",
       "      <th>text</th>\n",
       "    </tr>\n",
       "  </thead>\n",
       "  <tbody>\n",
       "    <tr>\n",
       "      <th>0</th>\n",
       "      <td>[32, 115, 104, 97, 108, 108, 32, 115, 97, 116, 105, 115, 102, 121, 32, 109, 101, 46, 10, 65, 110, 100, 32, 112, 108, 97, 103, 117, 101, 32, 105, 110, 106, 117, 115, 116, 105, 99, 101, 32, 119, 105, 116, 104, 32, 116, 104, 101, 32, 112, 97, 105, 110, 115, 32, 111, 102, 32, 104, 101, 108, 108, 46, 10, 83, 104, 101, 32, 115, 112, 101, 97, 107, 115, 32, 121, 101, 116, 32, 115, 104, 101, 32, 115, 97, 121, 115, 32, 110, 111, 116, 104, 105, 110, 103, 58, 32, 119, 104, 97, ...]</td>\n",
       "      <td>shall satisfy me.\\nAnd plague injustice with the pains of hell.\\nShe speaks yet she says nothing: what of that?\\nopen thy affair.\\nH</td>\n",
       "    </tr>\n",
       "    <tr>\n",
       "      <th>1</th>\n",
       "      <td>[83, 58, 10, 73, 32, 97, 109, 32, 97, 115, 104, 97, 109, 101, 100, 32, 116, 104, 97, 116, 32, 119, 111, 109, 101, 110, 32, 97, 114, 101, 32, 115, 111, 32, 115, 105, 109, 112, 108, 101, 10, 79, 110, 108, 121, 32, 116, 111, 32, 115, 116, 105, 99, 107, 32, 105, 116, 32, 105, 110, 32, 116, 104, 101, 105, 114, 32, 99, 104, 105, 108, 100, 114, 101, 110, 39, 115, 32, 115, 105, 103, 104, 116, 10, 77, 69, 78, 69, 78, 73, 85, 83, 58, 10, 67, 65, 77, 73, 76, 76, ...]</td>\n",
       "      <td>S:\\nI am ashamed that women are so simple\\nOnly to stick it in their children's sight\\nMENENIUS:\\nCAMILLO:\\nlike the horse; with a lin</td>\n",
       "    </tr>\n",
       "    <tr>\n",
       "      <th>2</th>\n",
       "      <td>[116, 104, 111, 117, 103, 104, 116, 32, 116, 104, 101, 32, 115, 111, 117, 108, 115, 32, 111, 102, 32, 97, 108, 108, 32, 116, 104, 97, 116, 32, 73, 32, 104, 97, 100, 32, 109, 117, 114, 100, 101, 114, 39, 100, 10, 65, 108, 97, 115, 44, 32, 116, 104, 97, 116, 32, 87, 97, 114, 119, 105, 99, 107, 32, 104, 97, 100, 32, 110, 111, 32, 109, 111, 114, 101, 32, 102, 111, 114, 101, 99, 97, 115, 116, 44, 10, 84, 111, 32, 98, 117, 121, 32, 97, 110, 100, 32, 115, 101, 108, ...]</td>\n",
       "      <td>thought the souls of all that I had murder'd\\nAlas, that Warwick had no more forecast,\\nTo buy and sell with groats, to show bare h</td>\n",
       "    </tr>\n",
       "    <tr>\n",
       "      <th>3</th>\n",
       "      <td>[110, 32, 116, 104, 101, 32, 103, 108, 97, 115, 115, 101, 115, 32, 111, 102, 32, 116, 104, 105, 110, 101, 32, 101, 121, 101, 115, 10, 72, 101, 32, 109, 97, 121, 32, 99, 111, 109, 109, 97, 110, 100, 32, 109, 101, 32, 97, 115, 32, 109, 121, 32, 115, 111, 118, 101, 114, 101, 105, 103, 110, 59, 10, 87, 97, 115, 32, 103, 114, 111, 119, 110, 32, 105, 110, 116, 111, 32, 97, 32, 104, 111, 111, 112, 63, 32, 104, 97, 115, 116, 32, 116, 104, 111, 117, 32, 102, 111, 114, 103, ...]</td>\n",
       "      <td>n the glasses of thine eyes\\nHe may command me as my sovereign;\\nWas grown into a hoop? hast thou forgot her?\\nYou promised, when yo</td>\n",
       "    </tr>\n",
       "    <tr>\n",
       "      <th>4</th>\n",
       "      <td>[119, 111, 117, 108, 100, 32, 116, 104, 101, 32, 119, 111, 114, 100, 32, 39, 102, 97, 114, 101, 119, 101, 108, 108, 39, 32, 104, 97, 118, 101, 32, 108, 101, 110, 103, 116, 104, 101, 110, 39, 100, 32, 104, 111, 117, 114, 115, 10, 75, 65, 84, 72, 65, 82, 73, 78, 65, 58, 10, 83, 73, 67, 73, 78, 73, 85, 83, 58, 10, 76, 101, 116, 39, 115, 32, 109, 97, 107, 101, 32, 116, 104, 101, 32, 98, 101, 115, 116, 32, 111, 102, 32, 105, 116, 46, 10, 66, 69, 78, 86, ...]</td>\n",
       "      <td>would the word 'farewell' have lengthen'd hours\\nKATHARINA:\\nSICINIUS:\\nLet's make the best of it.\\nBENVOLIO:\\nWe, having now the best</td>\n",
       "    </tr>\n",
       "    <tr>\n",
       "      <th>5</th>\n",
       "      <td>[109, 121, 32, 108, 105, 102, 101, 46, 10, 87, 104, 101, 114, 101, 32, 98, 101, 32, 116, 104, 101, 115, 101, 32, 107, 110, 97, 118, 101, 115, 63, 32, 87, 104, 97, 116, 44, 32, 110, 111, 32, 109, 97, 110, 32, 97, 116, 32, 100, 111, 111, 114, 10, 67, 111, 109, 101, 32, 111, 110, 44, 32, 98, 114, 97, 118, 101, 32, 115, 111, 108, 100, 105, 101, 114, 115, 58, 32, 100, 111, 117, 98, 116, 32, 110, 111, 116, 32, 111, 102, 32, 116, 104, 101, 32, 100, 97, 121, 44, 10, ...]</td>\n",
       "      <td>my life.\\nWhere be these knaves? What, no man at door\\nCome on, brave soldiers: doubt not of the day,\\nOr shall we beat the stones a</td>\n",
       "    </tr>\n",
       "    <tr>\n",
       "      <th>6</th>\n",
       "      <td>[110, 32, 104, 101, 114, 32, 102, 111, 114, 116, 117, 110, 101, 39, 115, 32, 116, 101, 110, 100, 101, 114, 44, 10, 115, 101, 101, 44, 32, 116, 104, 101, 114, 101, 32, 105, 115, 32, 115, 117, 99, 104, 32, 117, 110, 105, 116, 121, 32, 105, 110, 32, 116, 104, 101, 32, 112, 114, 111, 111, 102, 115, 46, 32, 84, 104, 101, 32, 109, 97, 110, 116, 108, 101, 10, 87, 105, 116, 104, 32, 97, 108, 108, 32, 116, 104, 101, 32, 102, 114, 105, 101, 110, 100, 115, 32, 116, 104, 97, 116, ...]</td>\n",
       "      <td>n her fortune's tender,\\nsee, there is such unity in the proofs. The mantle\\nWith all the friends that thou, brave Earl of March,\\nN</td>\n",
       "    </tr>\n",
       "    <tr>\n",
       "      <th>7</th>\n",
       "      <td>[101, 46, 10, 84, 104, 105, 114, 100, 32, 83, 101, 114, 118, 105, 110, 103, 109, 97, 110, 58, 10, 71, 111, 111, 100, 32, 110, 105, 103, 104, 116, 46, 10, 79, 110, 32, 112, 97, 105, 110, 32, 116, 111, 32, 98, 101, 32, 102, 111, 117, 110, 100, 32, 102, 97, 108, 115, 101, 32, 97, 110, 100, 32, 114, 101, 99, 114, 101, 97, 110, 116, 44, 10, 87, 104, 105, 108, 101, 32, 104, 101, 32, 104, 105, 109, 115, 101, 108, 102, 32, 107, 101, 101, 112, 115, 32, 105, 110, 32, 116, ...]</td>\n",
       "      <td>e.\\nThird Servingman:\\nGood night.\\nOn pain to be found false and recreant,\\nWhile he himself keeps in the cold field?\\nAUTOLYCUS:\\nSha</td>\n",
       "    </tr>\n",
       "    <tr>\n",
       "      <th>8</th>\n",
       "      <td>[32, 115, 105, 110, 99, 101, 32, 105, 116, 32, 105, 115, 32, 105, 110, 32, 109, 121, 32, 112, 111, 119, 101, 114, 10, 87, 104, 101, 114, 101, 32, 74, 117, 108, 105, 101, 116, 32, 108, 105, 118, 101, 115, 59, 32, 97, 110, 100, 32, 101, 118, 101, 114, 121, 32, 99, 97, 116, 32, 97, 110, 100, 32, 100, 111, 103, 10, 80, 114, 111, 118, 111, 115, 116, 58, 10, 83, 101, 99, 111, 110, 100, 32, 77, 117, 114, 100, 101, 114, 101, 114, 58, 10, 87, 105, 100, 111, 119, 58, 10, ...]</td>\n",
       "      <td>since it is in my power\\nWhere Juliet lives; and every cat and dog\\nProvost:\\nSecond Murderer:\\nWidow:\\nPOMPEY:\\nThere shall no figure</td>\n",
       "    </tr>\n",
       "    <tr>\n",
       "      <th>9</th>\n",
       "      <td>[115, 116, 105, 110, 121, 32, 115, 97, 121, 32, 110, 111, 46, 32, 66, 101, 32, 109, 101, 114, 114, 121, 44, 32, 103, 101, 110, 116, 108, 101, 59, 10, 65, 110, 100, 32, 119, 111, 117, 108, 100, 32, 98, 121, 32, 99, 111, 109, 98, 97, 116, 32, 109, 97, 107, 101, 32, 104, 101, 114, 32, 103, 111, 111, 100, 44, 32, 115, 111, 32, 119, 101, 114, 101, 32, 73, 10, 77, 65, 82, 73, 65, 78, 65, 58, 10, 75, 110, 111, 99, 107, 44, 32, 115, 105, 114, 33, 32, 119, 104, ...]</td>\n",
       "      <td>stiny say no. Be merry, gentle;\\nAnd would by combat make her good, so were I\\nMARIANA:\\nKnock, sir! whom should I knock? is there m</td>\n",
       "    </tr>\n",
       "  </tbody>\n",
       "</table>\n",
       "</div>"
      ],
      "text/plain": [
       "                                                                                                                                                                                                                                                                                                                                                                                                                                                                                             ids  \\\n",
       "0     [32, 115, 104, 97, 108, 108, 32, 115, 97, 116, 105, 115, 102, 121, 32, 109, 101, 46, 10, 65, 110, 100, 32, 112, 108, 97, 103, 117, 101, 32, 105, 110, 106, 117, 115, 116, 105, 99, 101, 32, 119, 105, 116, 104, 32, 116, 104, 101, 32, 112, 97, 105, 110, 115, 32, 111, 102, 32, 104, 101, 108, 108, 46, 10, 83, 104, 101, 32, 115, 112, 101, 97, 107, 115, 32, 121, 101, 116, 32, 115, 104, 101, 32, 115, 97, 121, 115, 32, 110, 111, 116, 104, 105, 110, 103, 58, 32, 119, 104, 97, ...]   \n",
       "1                   [83, 58, 10, 73, 32, 97, 109, 32, 97, 115, 104, 97, 109, 101, 100, 32, 116, 104, 97, 116, 32, 119, 111, 109, 101, 110, 32, 97, 114, 101, 32, 115, 111, 32, 115, 105, 109, 112, 108, 101, 10, 79, 110, 108, 121, 32, 116, 111, 32, 115, 116, 105, 99, 107, 32, 105, 116, 32, 105, 110, 32, 116, 104, 101, 105, 114, 32, 99, 104, 105, 108, 100, 114, 101, 110, 39, 115, 32, 115, 105, 103, 104, 116, 10, 77, 69, 78, 69, 78, 73, 85, 83, 58, 10, 67, 65, 77, 73, 76, 76, ...]   \n",
       "2            [116, 104, 111, 117, 103, 104, 116, 32, 116, 104, 101, 32, 115, 111, 117, 108, 115, 32, 111, 102, 32, 97, 108, 108, 32, 116, 104, 97, 116, 32, 73, 32, 104, 97, 100, 32, 109, 117, 114, 100, 101, 114, 39, 100, 10, 65, 108, 97, 115, 44, 32, 116, 104, 97, 116, 32, 87, 97, 114, 119, 105, 99, 107, 32, 104, 97, 100, 32, 110, 111, 32, 109, 111, 114, 101, 32, 102, 111, 114, 101, 99, 97, 115, 116, 44, 10, 84, 111, 32, 98, 117, 121, 32, 97, 110, 100, 32, 115, 101, 108, ...]   \n",
       "3      [110, 32, 116, 104, 101, 32, 103, 108, 97, 115, 115, 101, 115, 32, 111, 102, 32, 116, 104, 105, 110, 101, 32, 101, 121, 101, 115, 10, 72, 101, 32, 109, 97, 121, 32, 99, 111, 109, 109, 97, 110, 100, 32, 109, 101, 32, 97, 115, 32, 109, 121, 32, 115, 111, 118, 101, 114, 101, 105, 103, 110, 59, 10, 87, 97, 115, 32, 103, 114, 111, 119, 110, 32, 105, 110, 116, 111, 32, 97, 32, 104, 111, 111, 112, 63, 32, 104, 97, 115, 116, 32, 116, 104, 111, 117, 32, 102, 111, 114, 103, ...]   \n",
       "4                      [119, 111, 117, 108, 100, 32, 116, 104, 101, 32, 119, 111, 114, 100, 32, 39, 102, 97, 114, 101, 119, 101, 108, 108, 39, 32, 104, 97, 118, 101, 32, 108, 101, 110, 103, 116, 104, 101, 110, 39, 100, 32, 104, 111, 117, 114, 115, 10, 75, 65, 84, 72, 65, 82, 73, 78, 65, 58, 10, 83, 73, 67, 73, 78, 73, 85, 83, 58, 10, 76, 101, 116, 39, 115, 32, 109, 97, 107, 101, 32, 116, 104, 101, 32, 98, 101, 115, 116, 32, 111, 102, 32, 105, 116, 46, 10, 66, 69, 78, 86, ...]   \n",
       "5            [109, 121, 32, 108, 105, 102, 101, 46, 10, 87, 104, 101, 114, 101, 32, 98, 101, 32, 116, 104, 101, 115, 101, 32, 107, 110, 97, 118, 101, 115, 63, 32, 87, 104, 97, 116, 44, 32, 110, 111, 32, 109, 97, 110, 32, 97, 116, 32, 100, 111, 111, 114, 10, 67, 111, 109, 101, 32, 111, 110, 44, 32, 98, 114, 97, 118, 101, 32, 115, 111, 108, 100, 105, 101, 114, 115, 58, 32, 100, 111, 117, 98, 116, 32, 110, 111, 116, 32, 111, 102, 32, 116, 104, 101, 32, 100, 97, 121, 44, 10, ...]   \n",
       "6  [110, 32, 104, 101, 114, 32, 102, 111, 114, 116, 117, 110, 101, 39, 115, 32, 116, 101, 110, 100, 101, 114, 44, 10, 115, 101, 101, 44, 32, 116, 104, 101, 114, 101, 32, 105, 115, 32, 115, 117, 99, 104, 32, 117, 110, 105, 116, 121, 32, 105, 110, 32, 116, 104, 101, 32, 112, 114, 111, 111, 102, 115, 46, 32, 84, 104, 101, 32, 109, 97, 110, 116, 108, 101, 10, 87, 105, 116, 104, 32, 97, 108, 108, 32, 116, 104, 101, 32, 102, 114, 105, 101, 110, 100, 115, 32, 116, 104, 97, 116, ...]   \n",
       "7        [101, 46, 10, 84, 104, 105, 114, 100, 32, 83, 101, 114, 118, 105, 110, 103, 109, 97, 110, 58, 10, 71, 111, 111, 100, 32, 110, 105, 103, 104, 116, 46, 10, 79, 110, 32, 112, 97, 105, 110, 32, 116, 111, 32, 98, 101, 32, 102, 111, 117, 110, 100, 32, 102, 97, 108, 115, 101, 32, 97, 110, 100, 32, 114, 101, 99, 114, 101, 97, 110, 116, 44, 10, 87, 104, 105, 108, 101, 32, 104, 101, 32, 104, 105, 109, 115, 101, 108, 102, 32, 107, 101, 101, 112, 115, 32, 105, 110, 32, 116, ...]   \n",
       "8         [32, 115, 105, 110, 99, 101, 32, 105, 116, 32, 105, 115, 32, 105, 110, 32, 109, 121, 32, 112, 111, 119, 101, 114, 10, 87, 104, 101, 114, 101, 32, 74, 117, 108, 105, 101, 116, 32, 108, 105, 118, 101, 115, 59, 32, 97, 110, 100, 32, 101, 118, 101, 114, 121, 32, 99, 97, 116, 32, 97, 110, 100, 32, 100, 111, 103, 10, 80, 114, 111, 118, 111, 115, 116, 58, 10, 83, 101, 99, 111, 110, 100, 32, 77, 117, 114, 100, 101, 114, 101, 114, 58, 10, 87, 105, 100, 111, 119, 58, 10, ...]   \n",
       "9                  [115, 116, 105, 110, 121, 32, 115, 97, 121, 32, 110, 111, 46, 32, 66, 101, 32, 109, 101, 114, 114, 121, 44, 32, 103, 101, 110, 116, 108, 101, 59, 10, 65, 110, 100, 32, 119, 111, 117, 108, 100, 32, 98, 121, 32, 99, 111, 109, 98, 97, 116, 32, 109, 97, 107, 101, 32, 104, 101, 114, 32, 103, 111, 111, 100, 44, 32, 115, 111, 32, 119, 101, 114, 101, 32, 73, 10, 77, 65, 82, 73, 65, 78, 65, 58, 10, 75, 110, 111, 99, 107, 44, 32, 115, 105, 114, 33, 32, 119, 104, ...]   \n",
       "\n",
       "                                                                                                                                      text  \n",
       "0     shall satisfy me.\\nAnd plague injustice with the pains of hell.\\nShe speaks yet she says nothing: what of that?\\nopen thy affair.\\nH  \n",
       "1   S:\\nI am ashamed that women are so simple\\nOnly to stick it in their children's sight\\nMENENIUS:\\nCAMILLO:\\nlike the horse; with a lin  \n",
       "2      thought the souls of all that I had murder'd\\nAlas, that Warwick had no more forecast,\\nTo buy and sell with groats, to show bare h  \n",
       "3     n the glasses of thine eyes\\nHe may command me as my sovereign;\\nWas grown into a hoop? hast thou forgot her?\\nYou promised, when yo  \n",
       "4   would the word 'farewell' have lengthen'd hours\\nKATHARINA:\\nSICINIUS:\\nLet's make the best of it.\\nBENVOLIO:\\nWe, having now the best  \n",
       "5     my life.\\nWhere be these knaves? What, no man at door\\nCome on, brave soldiers: doubt not of the day,\\nOr shall we beat the stones a  \n",
       "6     n her fortune's tender,\\nsee, there is such unity in the proofs. The mantle\\nWith all the friends that thou, brave Earl of March,\\nN  \n",
       "7  e.\\nThird Servingman:\\nGood night.\\nOn pain to be found false and recreant,\\nWhile he himself keeps in the cold field?\\nAUTOLYCUS:\\nSha  \n",
       "8   since it is in my power\\nWhere Juliet lives; and every cat and dog\\nProvost:\\nSecond Murderer:\\nWidow:\\nPOMPEY:\\nThere shall no figure  \n",
       "9     stiny say no. Be merry, gentle;\\nAnd would by combat make her good, so were I\\nMARIANA:\\nKnock, sir! whom should I knock? is there m  "
      ]
     },
     "execution_count": 16,
     "metadata": {},
     "output_type": "execute_result"
    }
   ],
   "source": [
    "def load_samples(ds, tok, n=10):\n",
    "    it = iter(ds)\n",
    "    rows = []\n",
    "    for i in range(n):\n",
    "        row = {}\n",
    "        row['ids'] = [id for id in next(it).cpu().numpy()]\n",
    "        row['text'] = tok.decode(row['ids'])\n",
    "        rows.append(row)\n",
    "    return pd.DataFrame(rows)\n",
    "\n",
    "load_samples(ds, tok)"
   ]
  },
  {
   "cell_type": "code",
   "execution_count": null,
   "id": "979b2ee7",
   "metadata": {},
   "outputs": [],
   "source": []
  }
 ],
 "metadata": {
  "kernelspec": {
   "display_name": "Python 3 (ipykernel)",
   "language": "python",
   "name": "python3"
  },
  "language_info": {
   "codemirror_mode": {
    "name": "ipython",
    "version": 3
   },
   "file_extension": ".py",
   "mimetype": "text/x-python",
   "name": "python",
   "nbconvert_exporter": "python",
   "pygments_lexer": "ipython3",
   "version": "3.8.12"
  }
 },
 "nbformat": 4,
 "nbformat_minor": 5
}
