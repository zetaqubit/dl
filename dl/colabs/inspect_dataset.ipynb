{
 "cells": [
  {
   "cell_type": "code",
   "execution_count": 2,
   "id": "7c99c112",
   "metadata": {},
   "outputs": [],
   "source": [
    "import os\n",
    "os.chdir('/home/z/code/zetaqubit/dl')"
   ]
  },
  {
   "cell_type": "code",
   "execution_count": 3,
   "id": "7cf7feeb",
   "metadata": {},
   "outputs": [
    {
     "name": "stdout",
     "output_type": "stream",
     "text": [
      "/home/z/code/zetaqubit/dl\r\n"
     ]
    }
   ],
   "source": [
    "!pwd"
   ]
  },
  {
   "cell_type": "code",
   "execution_count": 4,
   "id": "d5327652",
   "metadata": {},
   "outputs": [],
   "source": [
    "import pandas as pd\n",
    "import numpy as np\n",
    "pd.set_option ('display.max_colwidth', None)"
   ]
  },
  {
   "cell_type": "code",
   "execution_count": 5,
   "id": "a0399e24",
   "metadata": {},
   "outputs": [],
   "source": [
    "from dl.colabs import colab_utils as cu"
   ]
  },
  {
   "cell_type": "code",
   "execution_count": 6,
   "id": "8edf5e75",
   "metadata": {},
   "outputs": [
    {
     "name": "stdout",
     "output_type": "stream",
     "text": [
      "The autoreload extension is already loaded. To reload it, use:\n",
      "  %reload_ext autoreload\n",
      "The autoreload extension is already loaded. To reload it, use:\n",
      "  %reload_ext autoreload\n"
     ]
    },
    {
     "data": {
      "text/plain": [
       "<module 'dl.colabs.colab_utils' from '/home/z/code/zetaqubit/dl/dl/colabs/colab_utils.py'>"
      ]
     },
     "execution_count": 6,
     "metadata": {},
     "output_type": "execute_result"
    }
   ],
   "source": [
    "cu.autoreload()\n",
    "cu.reload(cu)"
   ]
  },
  {
   "cell_type": "code",
   "execution_count": 7,
   "id": "1b0652ef",
   "metadata": {},
   "outputs": [],
   "source": [
    "cu.clear()"
   ]
  },
  {
   "cell_type": "code",
   "execution_count": 24,
   "id": "704972e3",
   "metadata": {},
   "outputs": [],
   "source": [
    "import gin\n",
    "from dl.data import tokenizers\n",
    "\n",
    "tok_type = 'char'\n",
    "max_seq_len = 256\n",
    "tok = tokenizers.create(tok_type, max_seq_len=None)"
   ]
  },
  {
   "cell_type": "code",
   "execution_count": 55,
   "id": "04c3d33b",
   "metadata": {},
   "outputs": [],
   "source": [
    "from dl.data import dataset\n",
    "\n",
    "ds_name = 'wikitext-103'\n",
    "ds = dataset.MemoryMappedDataset(ds_name, f'{tok_type}.train', max_seq_len+1)"
   ]
  },
  {
   "cell_type": "code",
   "execution_count": 56,
   "id": "db7187d7",
   "metadata": {},
   "outputs": [
    {
     "name": "stdout",
     "output_type": "stream",
     "text": [
      " = Valkyria Chronicles III = \n",
      " Senj no Valkyria 3: Unrecorded Chronicles (Japanese: 3, lit. Valkyria of the Battlefield 3), commonly referred to as Valkyria Chronicles III outside Japan, is a tactical role-playing video game developed by Sega and Media.Vis\n",
      "[ 32  61  32  86  97 108 107 121 114 105  97  32  67 104 114 111 110 105\n",
      "  99 108 101 115  32  73  73  73  32  61  32  10  32  83 101 110 106  32\n",
      " 110 111  32  86  97 108 107 121 114 105  97  32  51  58  32  85 110 114\n",
      " 101  99 111 114 100 101 100  32  67 104 114 111 110 105  99 108 101 115\n",
      "  32  40  74  97 112  97 110 101 115 101  58  32  51  44  32 108 105 116\n",
      "  46  32  86  97 108 107 121 114 105  97  32 111 102  32 116 104 101  32\n",
      "  66  97 116 116 108 101 102 105 101 108 100  32  51  41  44  32  99 111\n",
      " 109 109 111 110 108 121  32 114 101 102 101 114 114 101 100  32 116 111\n",
      "  32  97 115  32  86  97 108 107 121 114 105  97  32  67 104 114 111 110\n",
      " 105  99 108 101 115  32  73  73  73  32 111 117 116 115 105 100 101  32\n",
      "  74  97 112  97 110  44  32 105 115  32  97  32 116  97  99 116 105  99\n",
      "  97 108  32 114 111 108 101  45 112 108  97 121 105 110 103  32 118 105\n",
      " 100 101 111  32 103  97 109 101  32 100 101 118 101 108 111 112 101 100\n",
      "  32  98 121  32  83 101 103  97  32  97 110 100  32  77 101 100 105  97\n",
      "  46  86 105 115]\n"
     ]
    }
   ],
   "source": [
    "print(tok.decode(ds.data[:max_seq_len]))\n",
    "print(ds.data[:max_seq_len])"
   ]
  },
  {
   "cell_type": "code",
   "execution_count": 57,
   "id": "11bf56eb",
   "metadata": {},
   "outputs": [
    {
     "name": "stdout",
     "output_type": "stream",
     "text": [
      "k, the former maverick, the curmudgeon, the bridge builder, the war hero bent on transcending the call of self-interest to serve a cause greater than himself, the sore loser, old bull, last lion, loose cannon, happy warrior, elder statesman, lion in winter .... \" \n",
      " In his own estimation, the Arizona senator is straightforward and direct, but impatient. Other traits include a penchant for lucky charms, a fondness for hiking, and a sense of humor that has sometimes backfired spectacularly, as when he made a joke in 1998 about the Clintons widely deemed not fit to print in newspapers: \" Do you know why Chelsea Clinton is so ugly ?  Because Janet Reno is her father. \" McCain subsequently apologized profusely, and the Clinton White House accepted his apology. McCain has not shied away from addressing his shortcomings, and apologizing for them. He is known for sometimes being prickly and hot-tempered with Senate colleagues, but his relations with his own Senate staff have been more cordial, \n"
     ]
    }
   ],
   "source": [
    "offset = 11000000\n",
    "print(tok.decode(ds.data[offset:offset+1000]))"
   ]
  },
  {
   "cell_type": "code",
   "execution_count": 58,
   "id": "317ae5e0",
   "metadata": {},
   "outputs": [
    {
     "data": {
      "text/html": [
       "<div>\n",
       "<style scoped>\n",
       "    .dataframe tbody tr th:only-of-type {\n",
       "        vertical-align: middle;\n",
       "    }\n",
       "\n",
       "    .dataframe tbody tr th {\n",
       "        vertical-align: top;\n",
       "    }\n",
       "\n",
       "    .dataframe thead th {\n",
       "        text-align: right;\n",
       "    }\n",
       "</style>\n",
       "<table border=\"1\" class=\"dataframe\">\n",
       "  <thead>\n",
       "    <tr style=\"text-align: right;\">\n",
       "      <th></th>\n",
       "      <th>ids</th>\n",
       "      <th>text</th>\n",
       "    </tr>\n",
       "  </thead>\n",
       "  <tbody>\n",
       "    <tr>\n",
       "      <th>0</th>\n",
       "      <td>[46, 74, 46, 32, 87, 111, 114, 116, 104, 32, 100, 101, 118, 101, 108, 111, 112, 101, 100, 32, 116, 104, 101, 32, 101, 113, 117, 105, 112, 109, 101, 110, 116, 32, 102, 111, 114, 32, 116, 104, 101, 32, 115, 99, 101, 110, 101, 44, 32, 119, 104, 105, 99, 104, 32, 105, 110, 99, 108, 117, 100, 101, 100, 32, 97, 32, 49, 45, 105, 110, 99, 104, 45, 116, 104, 105, 99, 107, 32, 40, 50, 53, 32, 109, 109, 41, 32, 112, 97, 114, 97, 99, 104, 117, 116, 101, 32, 112, 97, 99, ...]</td>\n",
       "      <td>.J. Worth developed the equipment for the scene, which included a 1-inch-thick (25 mm) parachute pack that could be concealed beneath the suit to give the impression of the missing parachute, and equipment to prevent the freefalling cameraman from suffering</td>\n",
       "    </tr>\n",
       "    <tr>\n",
       "      <th>1</th>\n",
       "      <td>[44, 32, 102, 111, 117, 110, 100, 32, 111, 110, 108, 121, 32, 105, 110, 32, 67, 111, 115, 116, 97, 32, 82, 105, 99, 97, 46, 32, 65, 46, 32, 97, 116, 107, 105, 110, 115, 111, 110, 105, 97, 110, 97, 44, 32, 97, 110, 111, 116, 104, 101, 114, 32, 78, 111, 114, 116, 104, 32, 65, 109, 101, 114, 105, 99, 97, 110, 32, 115, 112, 101, 99, 105, 101, 115, 44, 32, 104, 97, 115, 32, 115, 104, 111, 114, 116, 101, 114, 32, 119, 97, 114, 116, 115, 32, 116, 104, 97, 116, 32, ...]</td>\n",
       "      <td>, found only in Costa Rica. A. atkinsoniana, another North American species, has shorter warts that are spaced further apart than those of A. onusta, and the warts on the basal bulb are arranged in parallel rows. \\n\\n = = Habitat and distribution = = \\n Amanit</td>\n",
       "    </tr>\n",
       "    <tr>\n",
       "      <th>2</th>\n",
       "      <td>[100, 32, 111, 102, 32, 116, 119, 111, 32, 115, 99, 117, 108, 112, 116, 117, 114, 101, 115, 32, 102, 114, 111, 109, 32, 116, 104, 101, 32, 49, 56, 55, 48, 115, 32, 116, 104, 97, 116, 32, 82, 111, 100, 105, 110, 32, 102, 111, 117, 110, 100, 32, 105, 110, 32, 104, 105, 115, 32, 115, 116, 117, 100, 105, 111, 32, 32, 97, 32, 98, 114, 111, 107, 101, 110, 32, 97, 110, 100, 32, 100, 97, 109, 97, 103, 101, 100, 32, 116, 111, 114, 115, 111, 32, 116, 104, 97, 116, 32, 104, ...]</td>\n",
       "      <td>d of two sculptures from the 1870s that Rodin found in his studio  a broken and damaged torso that had fallen into neglect and the lower extremities of a statuette version of his 1878 St. John the Baptist Preaching he was having re-sculpted at a reduced sca</td>\n",
       "    </tr>\n",
       "    <tr>\n",
       "      <th>3</th>\n",
       "      <td>[32, 99, 104, 105, 108, 100, 114, 101, 110, 46, 32, 72, 111, 119, 101, 118, 101, 114, 44, 32, 116, 104, 101, 105, 114, 32, 109, 97, 114, 114, 105, 97, 103, 101, 32, 105, 115, 32, 117, 110, 104, 97, 112, 112, 121, 32, 97, 115, 32, 69, 108, 105, 115, 101, 32, 115, 117, 102, 102, 101, 114, 115, 32, 102, 114, 111, 109, 32, 98, 111, 114, 100, 101, 114, 108, 105, 110, 101, 32, 112, 101, 114, 115, 111, 110, 97, 108, 105, 116, 121, 32, 100, 105, 115, 111, 114, 100, 101, 114, 32, ...]</td>\n",
       "      <td>children. However, their marriage is unhappy as Elise suffers from borderline personality disorder and chronic depression. She has attacks of hysteria and, despite Nemo's attempts to save their marriage, ultimately leaves him to pursue Stefano. \\n Alternati</td>\n",
       "    </tr>\n",
       "    <tr>\n",
       "      <th>4</th>\n",
       "      <td>[121, 112, 104, 111, 111, 110, 46, 32, 84, 104, 101, 32, 115, 121, 115, 116, 101, 109, 32, 108, 97, 116, 101, 114, 32, 112, 97, 115, 115, 101, 100, 32, 98, 101, 116, 119, 101, 101, 110, 32, 116, 104, 101, 32, 80, 104, 105, 108, 105, 112, 112, 105, 110, 101, 115, 32, 97, 110, 100, 32, 84, 97, 105, 119, 97, 110, 32, 97, 115, 32, 105, 116, 32, 101, 110, 116, 101, 114, 101, 100, 32, 116, 104, 101, 32, 83, 111, 117, 116, 104, 32, 67, 104, 105, 110, 97, 32, 83, 101, 97, ...]</td>\n",
       "      <td>yphoon. The system later passed between the Philippines and Taiwan as it entered the South China Sea, but no land areas reported strong winds, suggesting the typhoon was either very small or had weakened from its peak. On July 29, the typhoon made landfall</td>\n",
       "    </tr>\n",
       "    <tr>\n",
       "      <th>5</th>\n",
       "      <td>[116, 32, 105, 110, 99, 108, 117, 100, 101, 100, 32, 116, 104, 101, 32, 109, 97, 105, 110, 32, 99, 101, 114, 101, 109, 111, 110, 105, 97, 108, 32, 104, 97, 108, 108, 46, 32, 84, 104, 101, 32, 99, 111, 109, 112, 111, 117, 110, 100, 32, 119, 97, 115, 32, 98, 117, 105, 108, 116, 32, 105, 110, 32, 97, 110, 32, 111, 99, 116, 97, 103, 111, 110, 97, 108, 32, 115, 104, 97, 112, 101, 44, 32, 97, 115, 32, 112, 108, 97, 110, 110, 101, 100, 32, 98, 121, 32, 116, 104, 101, ...]</td>\n",
       "      <td>t included the main ceremonial hall. The compound was built in an octagonal shape, as planned by the architect Nguyn Hu Thin. The tower part of the compound is 4.40 metres (14.4 ft) tall, with octagonal sides of length 2.25 metres (7.4 ft). At the top of th</td>\n",
       "    </tr>\n",
       "    <tr>\n",
       "      <th>6</th>\n",
       "      <td>[99, 101, 32, 116, 111, 32, 116, 104, 101, 32, 104, 97, 108, 108, 119, 97, 121, 59, 32, 116, 104, 101, 32, 119, 105, 110, 100, 111, 119, 115, 32, 104, 97, 100, 32, 99, 117, 114, 116, 97, 105, 110, 115, 32, 111, 102, 32, 100, 101, 108, 105, 99, 97, 116, 101, 32, 115, 97, 108, 109, 111, 110, 32, 115, 105, 108, 107, 46, 32, 10, 32, 84, 104, 101, 32, 102, 105, 114, 115, 116, 32, 114, 111, 111, 109, 32, 102, 114, 111, 109, 32, 116, 104, 101, 32, 99, 111, 114, 114, 105, ...]</td>\n",
       "      <td>ce to the hallway; the windows had curtains of delicate salmon silk. \\n The first room from the corridor was the living room, with a wainscot, pilasters, cornice, and door and window frames all of Spanish cedar, and a mantelpiece imported from an Italian cha</td>\n",
       "    </tr>\n",
       "    <tr>\n",
       "      <th>7</th>\n",
       "      <td>[114, 32, 105, 110, 116, 114, 111, 100, 117, 99, 101, 100, 41, 44, 32, 111, 114, 32, 116, 104, 101, 32, 115, 117, 98, 106, 101, 99, 116, 32, 109, 97, 116, 116, 101, 114, 32, 105, 115, 32, 102, 117, 114, 116, 104, 101, 114, 32, 99, 111, 109, 112, 108, 105, 99, 97, 116, 101, 100, 46, 32, 84, 104, 105, 115, 32, 118, 111, 108, 116, 97, 32, 99, 97, 110, 32, 111, 102, 116, 101, 110, 32, 116, 97, 107, 101, 32, 116, 104, 101, 32, 102, 111, 114, 109, 32, 111, 102, 32, 97, ...]</td>\n",
       "      <td>r introduced), or the subject matter is further complicated. This volta can often take the form of a \" but \" statement contradicting or complicating the content of the earlier lines. In the Petrarchan sonnet, the turn tends to fall around the division betwe</td>\n",
       "    </tr>\n",
       "    <tr>\n",
       "      <th>8</th>\n",
       "      <td>[116, 32, 102, 111, 117, 110, 100, 32, 116, 104, 97, 116, 32, 105, 116, 32, 111, 112, 101, 110, 101, 100, 32, 117, 112, 32, 116, 104, 101, 32, 97, 98, 105, 108, 105, 116, 121, 32, 116, 111, 32, 101, 120, 112, 108, 111, 114, 101, 32, 111, 116, 104, 101, 114, 32, 116, 121, 112, 101, 115, 32, 111, 102, 32, 115, 116, 111, 114, 105, 101, 115, 46, 32, 70, 111, 114, 32, 101, 120, 97, 109, 112, 108, 101, 44, 32, 116, 104, 101, 32, 101, 112, 105, 115, 111, 100, 101, 32, 34, 32, ...]</td>\n",
       "      <td>t found that it opened up the ability to explore other types of stories. For example, the episode \" Distant Origin \" would not have been made with Piller on the staff because of its unusual plot structure; the story focuses first on an alien race, not just</td>\n",
       "    </tr>\n",
       "    <tr>\n",
       "      <th>9</th>\n",
       "      <td>[114, 105, 101, 115, 46, 32, 84, 104, 101, 32, 102, 105, 114, 115, 116, 32, 105, 115, 32, 116, 104, 101, 32, 97, 114, 105, 97, 46, 32, 84, 104, 101, 32, 97, 114, 105, 97, 115, 32, 111, 102, 32, 80, 101, 107, 105, 110, 103, 32, 111, 112, 101, 114, 97, 32, 99, 97, 110, 32, 98, 101, 32, 102, 117, 114, 116, 104, 101, 114, 32, 100, 105, 118, 105, 100, 101, 100, 32, 105, 110, 116, 111, 32, 116, 104, 111, 115, 101, 32, 111, 102, 32, 116, 104, 101, 32, 69, 114, 104, 117, ...]</td>\n",
       "      <td>ries. The first is the aria. The arias of Peking opera can be further divided into those of the Erhuang and Xipi varieties. An example of an aria is wawa diao, an aria in the Xipi style that is sung by a young Sheng to indicate heightened emotion. The secon</td>\n",
       "    </tr>\n",
       "  </tbody>\n",
       "</table>\n",
       "</div>"
      ],
      "text/plain": [
       "                                                                                                                                                                                                                                                                                                                                                                                                                                                                                                ids  \\\n",
       "0               [46, 74, 46, 32, 87, 111, 114, 116, 104, 32, 100, 101, 118, 101, 108, 111, 112, 101, 100, 32, 116, 104, 101, 32, 101, 113, 117, 105, 112, 109, 101, 110, 116, 32, 102, 111, 114, 32, 116, 104, 101, 32, 115, 99, 101, 110, 101, 44, 32, 119, 104, 105, 99, 104, 32, 105, 110, 99, 108, 117, 100, 101, 100, 32, 97, 32, 49, 45, 105, 110, 99, 104, 45, 116, 104, 105, 99, 107, 32, 40, 50, 53, 32, 109, 109, 41, 32, 112, 97, 114, 97, 99, 104, 117, 116, 101, 32, 112, 97, 99, ...]   \n",
       "1                [44, 32, 102, 111, 117, 110, 100, 32, 111, 110, 108, 121, 32, 105, 110, 32, 67, 111, 115, 116, 97, 32, 82, 105, 99, 97, 46, 32, 65, 46, 32, 97, 116, 107, 105, 110, 115, 111, 110, 105, 97, 110, 97, 44, 32, 97, 110, 111, 116, 104, 101, 114, 32, 78, 111, 114, 116, 104, 32, 65, 109, 101, 114, 105, 99, 97, 110, 32, 115, 112, 101, 99, 105, 101, 115, 44, 32, 104, 97, 115, 32, 115, 104, 111, 114, 116, 101, 114, 32, 119, 97, 114, 116, 115, 32, 116, 104, 97, 116, 32, ...]   \n",
       "2          [100, 32, 111, 102, 32, 116, 119, 111, 32, 115, 99, 117, 108, 112, 116, 117, 114, 101, 115, 32, 102, 114, 111, 109, 32, 116, 104, 101, 32, 49, 56, 55, 48, 115, 32, 116, 104, 97, 116, 32, 82, 111, 100, 105, 110, 32, 102, 111, 117, 110, 100, 32, 105, 110, 32, 104, 105, 115, 32, 115, 116, 117, 100, 105, 111, 32, 32, 97, 32, 98, 114, 111, 107, 101, 110, 32, 97, 110, 100, 32, 100, 97, 109, 97, 103, 101, 100, 32, 116, 111, 114, 115, 111, 32, 116, 104, 97, 116, 32, 104, ...]   \n",
       "3  [32, 99, 104, 105, 108, 100, 114, 101, 110, 46, 32, 72, 111, 119, 101, 118, 101, 114, 44, 32, 116, 104, 101, 105, 114, 32, 109, 97, 114, 114, 105, 97, 103, 101, 32, 105, 115, 32, 117, 110, 104, 97, 112, 112, 121, 32, 97, 115, 32, 69, 108, 105, 115, 101, 32, 115, 117, 102, 102, 101, 114, 115, 32, 102, 114, 111, 109, 32, 98, 111, 114, 100, 101, 114, 108, 105, 110, 101, 32, 112, 101, 114, 115, 111, 110, 97, 108, 105, 116, 121, 32, 100, 105, 115, 111, 114, 100, 101, 114, 32, ...]   \n",
       "4         [121, 112, 104, 111, 111, 110, 46, 32, 84, 104, 101, 32, 115, 121, 115, 116, 101, 109, 32, 108, 97, 116, 101, 114, 32, 112, 97, 115, 115, 101, 100, 32, 98, 101, 116, 119, 101, 101, 110, 32, 116, 104, 101, 32, 80, 104, 105, 108, 105, 112, 112, 105, 110, 101, 115, 32, 97, 110, 100, 32, 84, 97, 105, 119, 97, 110, 32, 97, 115, 32, 105, 116, 32, 101, 110, 116, 101, 114, 101, 100, 32, 116, 104, 101, 32, 83, 111, 117, 116, 104, 32, 67, 104, 105, 110, 97, 32, 83, 101, 97, ...]   \n",
       "5             [116, 32, 105, 110, 99, 108, 117, 100, 101, 100, 32, 116, 104, 101, 32, 109, 97, 105, 110, 32, 99, 101, 114, 101, 109, 111, 110, 105, 97, 108, 32, 104, 97, 108, 108, 46, 32, 84, 104, 101, 32, 99, 111, 109, 112, 111, 117, 110, 100, 32, 119, 97, 115, 32, 98, 117, 105, 108, 116, 32, 105, 110, 32, 97, 110, 32, 111, 99, 116, 97, 103, 111, 110, 97, 108, 32, 115, 104, 97, 112, 101, 44, 32, 97, 115, 32, 112, 108, 97, 110, 110, 101, 100, 32, 98, 121, 32, 116, 104, 101, ...]   \n",
       "6         [99, 101, 32, 116, 111, 32, 116, 104, 101, 32, 104, 97, 108, 108, 119, 97, 121, 59, 32, 116, 104, 101, 32, 119, 105, 110, 100, 111, 119, 115, 32, 104, 97, 100, 32, 99, 117, 114, 116, 97, 105, 110, 115, 32, 111, 102, 32, 100, 101, 108, 105, 99, 97, 116, 101, 32, 115, 97, 108, 109, 111, 110, 32, 115, 105, 108, 107, 46, 32, 10, 32, 84, 104, 101, 32, 102, 105, 114, 115, 116, 32, 114, 111, 111, 109, 32, 102, 114, 111, 109, 32, 116, 104, 101, 32, 99, 111, 114, 114, 105, ...]   \n",
       "7          [114, 32, 105, 110, 116, 114, 111, 100, 117, 99, 101, 100, 41, 44, 32, 111, 114, 32, 116, 104, 101, 32, 115, 117, 98, 106, 101, 99, 116, 32, 109, 97, 116, 116, 101, 114, 32, 105, 115, 32, 102, 117, 114, 116, 104, 101, 114, 32, 99, 111, 109, 112, 108, 105, 99, 97, 116, 101, 100, 46, 32, 84, 104, 105, 115, 32, 118, 111, 108, 116, 97, 32, 99, 97, 110, 32, 111, 102, 116, 101, 110, 32, 116, 97, 107, 101, 32, 116, 104, 101, 32, 102, 111, 114, 109, 32, 111, 102, 32, 97, ...]   \n",
       "8    [116, 32, 102, 111, 117, 110, 100, 32, 116, 104, 97, 116, 32, 105, 116, 32, 111, 112, 101, 110, 101, 100, 32, 117, 112, 32, 116, 104, 101, 32, 97, 98, 105, 108, 105, 116, 121, 32, 116, 111, 32, 101, 120, 112, 108, 111, 114, 101, 32, 111, 116, 104, 101, 114, 32, 116, 121, 112, 101, 115, 32, 111, 102, 32, 115, 116, 111, 114, 105, 101, 115, 46, 32, 70, 111, 114, 32, 101, 120, 97, 109, 112, 108, 101, 44, 32, 116, 104, 101, 32, 101, 112, 105, 115, 111, 100, 101, 32, 34, 32, ...]   \n",
       "9          [114, 105, 101, 115, 46, 32, 84, 104, 101, 32, 102, 105, 114, 115, 116, 32, 105, 115, 32, 116, 104, 101, 32, 97, 114, 105, 97, 46, 32, 84, 104, 101, 32, 97, 114, 105, 97, 115, 32, 111, 102, 32, 80, 101, 107, 105, 110, 103, 32, 111, 112, 101, 114, 97, 32, 99, 97, 110, 32, 98, 101, 32, 102, 117, 114, 116, 104, 101, 114, 32, 100, 105, 118, 105, 100, 101, 100, 32, 105, 110, 116, 111, 32, 116, 104, 111, 115, 101, 32, 111, 102, 32, 116, 104, 101, 32, 69, 114, 104, 117, ...]   \n",
       "\n",
       "                                                                                                                                                                                                                                                                   text  \n",
       "0     .J. Worth developed the equipment for the scene, which included a 1-inch-thick (25 mm) parachute pack that could be concealed beneath the suit to give the impression of the missing parachute, and equipment to prevent the freefalling cameraman from suffering  \n",
       "1  , found only in Costa Rica. A. atkinsoniana, another North American species, has shorter warts that are spaced further apart than those of A. onusta, and the warts on the basal bulb are arranged in parallel rows. \\n\\n = = Habitat and distribution = = \\n Amanit  \n",
       "2     d of two sculptures from the 1870s that Rodin found in his studio  a broken and damaged torso that had fallen into neglect and the lower extremities of a statuette version of his 1878 St. John the Baptist Preaching he was having re-sculpted at a reduced sca  \n",
       "3     children. However, their marriage is unhappy as Elise suffers from borderline personality disorder and chronic depression. She has attacks of hysteria and, despite Nemo's attempts to save their marriage, ultimately leaves him to pursue Stefano. \\n Alternati  \n",
       "4     yphoon. The system later passed between the Philippines and Taiwan as it entered the South China Sea, but no land areas reported strong winds, suggesting the typhoon was either very small or had weakened from its peak. On July 29, the typhoon made landfall   \n",
       "5     t included the main ceremonial hall. The compound was built in an octagonal shape, as planned by the architect Nguyn Hu Thin. The tower part of the compound is 4.40 metres (14.4 ft) tall, with octagonal sides of length 2.25 metres (7.4 ft). At the top of th  \n",
       "6    ce to the hallway; the windows had curtains of delicate salmon silk. \\n The first room from the corridor was the living room, with a wainscot, pilasters, cornice, and door and window frames all of Spanish cedar, and a mantelpiece imported from an Italian cha  \n",
       "7     r introduced), or the subject matter is further complicated. This volta can often take the form of a \" but \" statement contradicting or complicating the content of the earlier lines. In the Petrarchan sonnet, the turn tends to fall around the division betwe  \n",
       "8     t found that it opened up the ability to explore other types of stories. For example, the episode \" Distant Origin \" would not have been made with Piller on the staff because of its unusual plot structure; the story focuses first on an alien race, not just   \n",
       "9     ries. The first is the aria. The arias of Peking opera can be further divided into those of the Erhuang and Xipi varieties. An example of an aria is wawa diao, an aria in the Xipi style that is sung by a young Sheng to indicate heightened emotion. The secon  "
      ]
     },
     "execution_count": 58,
     "metadata": {},
     "output_type": "execute_result"
    }
   ],
   "source": [
    "def load_samples(ds, tok, n=10):\n",
    "    it = iter(ds)\n",
    "    rows = []\n",
    "    for i in range(n):\n",
    "        row = {}\n",
    "        row['ids'] = [id for id in next(it).cpu().numpy()]\n",
    "        row['text'] = tok.decode(row['ids'])\n",
    "        rows.append(row)\n",
    "    return pd.DataFrame(rows)\n",
    "\n",
    "load_samples(ds, tok)"
   ]
  },
  {
   "cell_type": "code",
   "execution_count": null,
   "id": "979b2ee7",
   "metadata": {},
   "outputs": [],
   "source": []
  }
 ],
 "metadata": {
  "kernelspec": {
   "display_name": "Python 3 (ipykernel)",
   "language": "python",
   "name": "python3"
  },
  "language_info": {
   "codemirror_mode": {
    "name": "ipython",
    "version": 3
   },
   "file_extension": ".py",
   "mimetype": "text/x-python",
   "name": "python",
   "nbconvert_exporter": "python",
   "pygments_lexer": "ipython3",
   "version": "3.8.12"
  }
 },
 "nbformat": 4,
 "nbformat_minor": 5
}
